{
 "cells": [
  {
   "cell_type": "markdown",
   "metadata": {},
   "source": [
    "# THIS FILE IS IN THE HANDOUTS FOLDER. COPY IT INTO YOUR CLASS NOTES\n",
    "\n",
    "- [**Read the chapter on the website!**](https://ledatascifi.github.io/ledatascifi-2025/content/05/02_reg.html) It contains a lot of extra information we won't cover in class extensively.\n",
    "- After reading that, I recommend [this webpage as a complimentary place to get additional intuition.](https://aeturrell.github.io/coding-for-economists/econmt-regression.html)\n",
    "\n",
    "## ASAP\n",
    "\n",
    "[Declare your team and project interests in the project sheet](https://docs.google.com/spreadsheets/d/1SMetWKgI3JdhFdBwihDgIY3BDubvihkJCWbgLcCe4fs/edit?usp=sharing)\n",
    "\n",
    "TODO UPDATE LINK"
   ]
  },
  {
   "cell_type": "markdown",
   "metadata": {},
   "source": [
    "# Today: Regression\n",
    "\n",
    "We start our machine learning applications with regression for a few simple reasons:\n",
    "- Regression is fundamental method for estimating the relationship between a variable (\"y\") that condition on many (\"X\") variables. \n",
    "- But the coefficients obtained can also be used to generate predictions. \n",
    "- _Note: The focus in this section is on RELATIONSHIP paradigm_\n",
    "- Many issues that confront researchers have well understood solutions when regression is the model being used. \n",
    "- Regression coefficients are easy to interpret.\n",
    "- https://twitter.com/seanjtaylor/status/1550326602105466880\n"
   ]
  },
  {
   "cell_type": "markdown",
   "metadata": {},
   "source": [
    "  \n",
    "## Objectives\n",
    "\n",
    "1. You can fit a regression with `statsmodels` or `sklearn`\n",
    "    - statsmodels: Nicer result tables, usually easier to specifying the regression model\n",
    "    - sklearn: Easier to use within a prediction/ML exercise\n",
    "2. You can view the results visually or numerically of your model with either method\n",
    "3. The focus today is on the _mechanics_ of running regressions, viewing the output, and using the estimation's output objects.\n",
    "\n",
    "![](https://media.giphy.com/media/yoJC2K6rCzwNY2EngA/giphy.gif)\n"
   ]
  },
  {
   "cell_type": "code",
   "execution_count": 1,
   "metadata": {},
   "outputs": [],
   "source": [
    "import numpy as np\n",
    "import pandas as pd\n",
    "import seaborn as sns\n",
    "import statsmodels.api as sm\n",
    "from sklearn.linear_model import LinearRegression\n",
    "from statsmodels.formula.api import ols as sm_ols\n",
    "import matplotlib.pyplot as plt\n"
   ]
  },
  {
   "cell_type": "markdown",
   "metadata": {},
   "source": [
    "## Data\n",
    "\n",
    "First, we load the data. \n",
    "\n",
    "**This is a new dataset, so we should do some data exploration!** Things students should try:\n",
    "- describe() - any impossible values\n",
    "- value_count() any categorical variables\n",
    "- didn't we have a community function to start the EDA?\n",
    "- correlation heat map\n",
    "- look for outliers for all variables, and within pairplots\n",
    "- print out and explore many sections of the data manually (in Excel or Spyder) to get familiar and check for data consistency issues\n"
   ]
  },
  {
   "cell_type": "code",
   "execution_count": 2,
   "metadata": {},
   "outputs": [],
   "source": [
    "url = 'https://github.com/LeDataSciFi/data/raw/main/Fannie%20Mae/Fannie_Mae_Plus_Data.gzip?raw=true'\n",
    "fannie_mae = pd.read_csv(url,compression='gzip') "
   ]
  },
  {
   "cell_type": "markdown",
   "metadata": {},
   "source": [
    "## Task 1\n",
    "\n",
    "Spend 5 minutes exploring the data and jot down what you learn about the data. \n",
    "\n",
    "- CPI and GOLD are highly correlated \n",
    "- Fannie Mae is a \"mortgage lender\"... is the data about mortgages?\n",
    "- Looks like a loan level data, but maybe LoanID isn't a valid unique key\n",
    "- Loan term is mostly30 year, but 15 is common\n",
    "- 135k rows, 36 columns (1 is Loan ID) \n",
    "- Important vars:\n",
    "  - 5.2% avg inter rate\n",
    "  - DTI ratio might be important ... LTV too\n",
    "  - Borrow credit score \n"
   ]
  },
  {
   "cell_type": "code",
   "execution_count": 7,
   "metadata": {},
   "outputs": [
    {
     "data": {
      "application/vnd.microsoft.datawrangler.viewer.v0+json": {
       "columns": [
        {
         "name": "index",
         "rawType": "int64",
         "type": "integer"
        },
        {
         "name": "Loan_Identifier",
         "rawType": "float64",
         "type": "float"
        }
       ],
       "conversionMethod": "pd.DataFrame",
       "ref": "e0280807-ce11-4f0c-a617-ddd9a0f9d673",
       "rows": [
        [
         "0",
         "973373000000.0"
        ],
        [
         "1",
         "927620000000.0"
        ],
        [
         "2",
         "717667000000.0"
        ],
        [
         "3",
         "988951000000.0"
        ],
        [
         "4",
         "190885000000.0"
        ],
        [
         "5",
         "753371000000.0"
        ],
        [
         "6",
         "703811000000.0"
        ],
        [
         "7",
         "794714000000.0"
        ],
        [
         "8",
         "578907000000.0"
        ],
        [
         "9",
         "826444000000.0"
        ],
        [
         "10",
         "281957000000.0"
        ],
        [
         "11",
         "285621000000.0"
        ],
        [
         "12",
         "887481000000.0"
        ],
        [
         "13",
         "655733000000.0"
        ],
        [
         "14",
         "957871000000.0"
        ],
        [
         "15",
         "659733000000.0"
        ],
        [
         "16",
         "551533000000.0"
        ],
        [
         "17",
         "290116000000.0"
        ],
        [
         "18",
         "668625000000.0"
        ],
        [
         "19",
         "801750000000.0"
        ],
        [
         "20",
         "360346000000.0"
        ],
        [
         "21",
         "283839000000.0"
        ],
        [
         "22",
         "847770000000.0"
        ],
        [
         "23",
         "477870000000.0"
        ],
        [
         "24",
         "151551000000.0"
        ],
        [
         "25",
         "396039000000.0"
        ],
        [
         "26",
         "623640000000.0"
        ],
        [
         "27",
         "868153000000.0"
        ],
        [
         "28",
         "114991000000.0"
        ],
        [
         "29",
         "944605000000.0"
        ],
        [
         "30",
         "258635000000.0"
        ],
        [
         "31",
         "539969000000.0"
        ],
        [
         "32",
         "581781000000.0"
        ],
        [
         "33",
         "488318000000.0"
        ],
        [
         "34",
         "600209000000.0"
        ],
        [
         "35",
         "141101000000.0"
        ],
        [
         "36",
         "264761000000.0"
        ],
        [
         "37",
         "881953000000.0"
        ],
        [
         "38",
         "377404000000.0"
        ],
        [
         "39",
         "341725000000.0"
        ],
        [
         "40",
         "516238000000.0"
        ],
        [
         "41",
         "805031000000.0"
        ],
        [
         "42",
         "745636000000.0"
        ],
        [
         "43",
         "187050000000.0"
        ],
        [
         "44",
         "799435000000.0"
        ],
        [
         "45",
         "759856000000.0"
        ],
        [
         "46",
         "206686000000.0"
        ],
        [
         "47",
         "696958000000.0"
        ],
        [
         "48",
         "503666000000.0"
        ],
        [
         "49",
         "950569000000.0"
        ]
       ],
       "shape": {
        "columns": 1,
        "rows": 125363
       }
      },
      "text/html": [
       "<div>\n",
       "<style scoped>\n",
       "    .dataframe tbody tr th:only-of-type {\n",
       "        vertical-align: middle;\n",
       "    }\n",
       "\n",
       "    .dataframe tbody tr th {\n",
       "        vertical-align: top;\n",
       "    }\n",
       "\n",
       "    .dataframe thead th {\n",
       "        text-align: right;\n",
       "    }\n",
       "</style>\n",
       "<table border=\"1\" class=\"dataframe\">\n",
       "  <thead>\n",
       "    <tr style=\"text-align: right;\">\n",
       "      <th></th>\n",
       "      <th>Loan_Identifier</th>\n",
       "    </tr>\n",
       "  </thead>\n",
       "  <tbody>\n",
       "    <tr>\n",
       "      <th>0</th>\n",
       "      <td>9.733730e+11</td>\n",
       "    </tr>\n",
       "    <tr>\n",
       "      <th>1</th>\n",
       "      <td>9.276200e+11</td>\n",
       "    </tr>\n",
       "    <tr>\n",
       "      <th>2</th>\n",
       "      <td>7.176670e+11</td>\n",
       "    </tr>\n",
       "    <tr>\n",
       "      <th>3</th>\n",
       "      <td>9.889510e+11</td>\n",
       "    </tr>\n",
       "    <tr>\n",
       "      <th>4</th>\n",
       "      <td>1.908850e+11</td>\n",
       "    </tr>\n",
       "    <tr>\n",
       "      <th>...</th>\n",
       "      <td>...</td>\n",
       "    </tr>\n",
       "    <tr>\n",
       "      <th>135033</th>\n",
       "      <td>9.204900e+11</td>\n",
       "    </tr>\n",
       "    <tr>\n",
       "      <th>135034</th>\n",
       "      <td>9.666890e+11</td>\n",
       "    </tr>\n",
       "    <tr>\n",
       "      <th>135035</th>\n",
       "      <td>6.616280e+11</td>\n",
       "    </tr>\n",
       "    <tr>\n",
       "      <th>135036</th>\n",
       "      <td>5.102850e+11</td>\n",
       "    </tr>\n",
       "    <tr>\n",
       "      <th>135037</th>\n",
       "      <td>4.330130e+11</td>\n",
       "    </tr>\n",
       "  </tbody>\n",
       "</table>\n",
       "<p>125363 rows × 1 columns</p>\n",
       "</div>"
      ],
      "text/plain": [
       "        Loan_Identifier\n",
       "0          9.733730e+11\n",
       "1          9.276200e+11\n",
       "2          7.176670e+11\n",
       "3          9.889510e+11\n",
       "4          1.908850e+11\n",
       "...                 ...\n",
       "135033     9.204900e+11\n",
       "135034     9.666890e+11\n",
       "135035     6.616280e+11\n",
       "135036     5.102850e+11\n",
       "135037     4.330130e+11\n",
       "\n",
       "[125363 rows x 1 columns]"
      ]
     },
     "execution_count": 7,
     "metadata": {},
     "output_type": "execute_result"
    }
   ],
   "source": [
    "fannie_mae[['Loan_Identifier']].drop_duplicates()"
   ]
  },
  {
   "cell_type": "markdown",
   "metadata": {
    "tags": []
   },
   "source": [
    "## Clean the data and create variables we will use\n",
    "\n",
    "These variables are pretty straightforward:"
   ]
  },
  {
   "cell_type": "code",
   "execution_count": 8,
   "metadata": {},
   "outputs": [],
   "source": [
    "fannie_mae = (fannie_mae\n",
    "                  # create variables\n",
    "                  .assign(l_credscore = np.log(fannie_mae['Borrower_Credit_Score_at_Origination']),\n",
    "                          l_LTV = np.log(fannie_mae['Original_LTV_(OLTV)']),\n",
    "                          Origination_Date = lambda x: pd.to_datetime(x['Origination_Date']),\n",
    "                          Origination_Year = lambda x: x['Origination_Date'].dt.year,\n",
    "                          const = 1,\n",
    "                          great = fannie_mae['Borrower_Credit_Score_at_Origination'] >= 800\n",
    "                         )\n",
    "              \n",
    "             )"
   ]
  },
  {
   "cell_type": "markdown",
   "metadata": {},
   "source": [
    "Credit rating is a number between 0 and 850. But in some analysis, it might make sense to have categories of credit ratings (e.g. bad to good). I borrowed [these cutoffs from experian.](https://www.experian.com/blogs/ask-experian/infographic-what-are-the-different-scoring-ranges/)"
   ]
  },
  {
   "cell_type": "code",
   "execution_count": 9,
   "metadata": {},
   "outputs": [],
   "source": [
    "# create a categorical bin var with \"pd.cut()\"\n",
    "\n",
    "fannie_mae['creditbins']= pd.cut(fannie_mae['Borrower_Credit_Score_at_Origination'],\n",
    "                                 [0,579,669,739,799,850],\n",
    "                                 labels=['Very Poor','Fair','Good','Very Good','Exceptional'])"
   ]
  },
  {
   "cell_type": "markdown",
   "metadata": {},
   "source": [
    "Here is the variable that created. I notice that 669 (right on the threshold of a bin) goes into the \"Fair\" bin instead of \"Good\"."
   ]
  },
  {
   "cell_type": "code",
   "execution_count": 10,
   "metadata": {},
   "outputs": [
    {
     "data": {
      "application/vnd.microsoft.datawrangler.viewer.v0+json": {
       "columns": [
        {
         "name": "index",
         "rawType": "int64",
         "type": "integer"
        },
        {
         "name": "Borrower_Credit_Score_at_Origination",
         "rawType": "float64",
         "type": "float"
        },
        {
         "name": "creditbins",
         "rawType": "category",
         "type": "unknown"
        }
       ],
       "conversionMethod": "pd.DataFrame",
       "ref": "5584316b-4cd7-428f-8b84-80506b9cea47",
       "rows": [
        [
         "0",
         "669.0",
         "Fair"
        ],
        [
         "1",
         "693.0",
         "Good"
        ],
        [
         "2",
         "741.0",
         "Very Good"
        ],
        [
         "3",
         "804.0",
         "Exceptional"
        ],
        [
         "4",
         "658.0",
         "Fair"
        ],
        [
         "5",
         "665.0",
         "Fair"
        ]
       ],
       "shape": {
        "columns": 2,
        "rows": 6
       }
      },
      "text/html": [
       "<div>\n",
       "<style scoped>\n",
       "    .dataframe tbody tr th:only-of-type {\n",
       "        vertical-align: middle;\n",
       "    }\n",
       "\n",
       "    .dataframe tbody tr th {\n",
       "        vertical-align: top;\n",
       "    }\n",
       "\n",
       "    .dataframe thead th {\n",
       "        text-align: right;\n",
       "    }\n",
       "</style>\n",
       "<table border=\"1\" class=\"dataframe\">\n",
       "  <thead>\n",
       "    <tr style=\"text-align: right;\">\n",
       "      <th></th>\n",
       "      <th>Borrower_Credit_Score_at_Origination</th>\n",
       "      <th>creditbins</th>\n",
       "    </tr>\n",
       "  </thead>\n",
       "  <tbody>\n",
       "    <tr>\n",
       "      <th>0</th>\n",
       "      <td>669.0</td>\n",
       "      <td>Fair</td>\n",
       "    </tr>\n",
       "    <tr>\n",
       "      <th>1</th>\n",
       "      <td>693.0</td>\n",
       "      <td>Good</td>\n",
       "    </tr>\n",
       "    <tr>\n",
       "      <th>2</th>\n",
       "      <td>741.0</td>\n",
       "      <td>Very Good</td>\n",
       "    </tr>\n",
       "    <tr>\n",
       "      <th>3</th>\n",
       "      <td>804.0</td>\n",
       "      <td>Exceptional</td>\n",
       "    </tr>\n",
       "    <tr>\n",
       "      <th>4</th>\n",
       "      <td>658.0</td>\n",
       "      <td>Fair</td>\n",
       "    </tr>\n",
       "    <tr>\n",
       "      <th>5</th>\n",
       "      <td>665.0</td>\n",
       "      <td>Fair</td>\n",
       "    </tr>\n",
       "  </tbody>\n",
       "</table>\n",
       "</div>"
      ],
      "text/plain": [
       "   Borrower_Credit_Score_at_Origination   creditbins\n",
       "0                                 669.0         Fair\n",
       "1                                 693.0         Good\n",
       "2                                 741.0    Very Good\n",
       "3                                 804.0  Exceptional\n",
       "4                                 658.0         Fair\n",
       "5                                 665.0         Fair"
      ]
     },
     "execution_count": 10,
     "metadata": {},
     "output_type": "execute_result"
    }
   ],
   "source": [
    "fannie_mae.loc[:5,['Borrower_Credit_Score_at_Origination','creditbins']]"
   ]
  },
  {
   "cell_type": "code",
   "execution_count": 11,
   "metadata": {},
   "outputs": [
    {
     "data": {
      "text/plain": [
       "creditbins\n",
       "Very Good      63855\n",
       "Good           39539\n",
       "Exceptional    15889\n",
       "Fair           14560\n",
       "Very Poor        638\n",
       "NaN              557\n",
       "Name: count, dtype: int64"
      ]
     },
     "execution_count": 11,
     "metadata": {},
     "output_type": "execute_result"
    }
   ],
   "source": [
    "# pd.cut took credit , var number between 0 and 850,\n",
    "# and changed it to bins. I labeled the bins explicitly\n",
    "\n",
    "fannie_mae['creditbins'].value_counts(dropna=False)"
   ]
  },
  {
   "cell_type": "markdown",
   "metadata": {},
   "source": [
    "## Exercises with statsmodels\n",
    "\n",
    "- **For all problems: y is the interest rate of the loan**\n",
    "- I recommend the _statsmodels formula_ method on the website\n",
    "\n",
    "Psuedocode for using statsmodels to run a regression:\n",
    "```python\n",
    "model = sm_ols(<formula>, data=<dataframe>)\n",
    "result=model.fit()\n",
    "\n",
    "# to print regression output: result.summary()\n",
    "# get predicted values (yhat): result.predict\n",
    "# get regression residuals (uhat): result.resid\n",
    "```"
   ]
  },
  {
   "cell_type": "markdown",
   "metadata": {},
   "source": [
    "### Q1: Starter regressions\n",
    "\n",
    "A. Regress y on the credit score (student demo): $y=\\beta_0 + \\beta_1*\\text{Credit Score}$\n",
    "- _I'll show 2 ways: the psuedo code and the one-liner_\n",
    "\n",
    "B. Regress y on the **natural log** of the credit score: $y=\\beta_0 + \\beta_1*log(\\text{Credit Score})$\n",
    "- _I'll show two ways to do this_\n",
    "\n",
    "C. Regress y on the **natural log** of the loan-to-value\n",
    "\n",
    "D. Regress y on the natural log of the loan-to-value and the natural log of the credit score: $y=\\beta_0 + \\beta_1*log(\\text{LTV}) + \\beta_2*log(\\text{Credit Score})$"
   ]
  },
  {
   "cell_type": "code",
   "execution_count": 12,
   "metadata": {},
   "outputs": [
    {
     "name": "stdout",
     "output_type": "stream",
     "text": [
      "                              OLS Regression Results                              \n",
      "==================================================================================\n",
      "Dep. Variable:     Original_Interest_Rate   R-squared:                       0.126\n",
      "Model:                                OLS   Adj. R-squared:                  0.126\n",
      "Method:                     Least Squares   F-statistic:                 1.938e+04\n",
      "Date:                    Thu, 20 Mar 2025   Prob (F-statistic):               0.00\n",
      "Time:                            12:41:36   Log-Likelihood:            -2.1575e+05\n",
      "No. Observations:                  134481   AIC:                         4.315e+05\n",
      "Df Residuals:                      134479   BIC:                         4.315e+05\n",
      "Df Model:                               1                                         \n",
      "Covariance Type:                nonrobust                                         \n",
      "========================================================================================================\n",
      "                                           coef    std err          t      P>|t|      [0.025      0.975]\n",
      "--------------------------------------------------------------------------------------------------------\n",
      "Intercept                               11.5819      0.046    253.270      0.000      11.492      11.671\n",
      "Borrower_Credit_Score_at_Origination    -0.0086   6.14e-05   -139.198      0.000      -0.009      -0.008\n",
      "==============================================================================\n",
      "Omnibus:                     2660.479   Durbin-Watson:                   0.397\n",
      "Prob(Omnibus):                  0.000   Jarque-Bera (JB):             2660.737\n",
      "Skew:                           0.321   Prob(JB):                         0.00\n",
      "Kurtosis:                       2.750   Cond. No.                     1.04e+04\n",
      "==============================================================================\n",
      "\n",
      "Notes:\n",
      "[1] Standard Errors assume that the covariance matrix of the errors is correctly specified.\n",
      "[2] The condition number is large, 1.04e+04. This might indicate that there are\n",
      "strong multicollinearity or other numerical problems.\n"
     ]
    }
   ],
   "source": [
    "from statsmodels.formula.api import ols as sm_ols  # Import the ols function\n",
    "\n",
    "# Creates regression model where 'Original_Interest_Rate' is the dependent variableand 'Borrower_Credit_Score_at_Origination' is the independent variable\n",
    "model = sm_ols('Original_Interest_Rate ~ Borrower_Credit_Score_at_Origination', data=fannie_mae)\n",
    "\n",
    "# Fits the model to the data\n",
    "results = model.fit()\n",
    "\n",
    "print(results.summary())"
   ]
  },
  {
   "cell_type": "code",
   "execution_count": null,
   "metadata": {},
   "outputs": [
    {
     "data": {
      "text/html": [
       "<table class=\"simpletable\">\n",
       "<caption>OLS Regression Results</caption>\n",
       "<tr>\n",
       "  <th>Dep. Variable:</th>    <td>Original_Interest_Rate</td> <th>  R-squared:         </th>  <td>   0.126</td>  \n",
       "</tr>\n",
       "<tr>\n",
       "  <th>Model:</th>                      <td>OLS</td>          <th>  Adj. R-squared:    </th>  <td>   0.126</td>  \n",
       "</tr>\n",
       "<tr>\n",
       "  <th>Method:</th>                <td>Least Squares</td>     <th>  F-statistic:       </th>  <td>1.938e+04</td> \n",
       "</tr>\n",
       "<tr>\n",
       "  <th>Date:</th>                <td>Thu, 20 Mar 2025</td>    <th>  Prob (F-statistic):</th>   <td>  0.00</td>   \n",
       "</tr>\n",
       "<tr>\n",
       "  <th>Time:</th>                    <td>12:42:22</td>        <th>  Log-Likelihood:    </th> <td>-2.1575e+05</td>\n",
       "</tr>\n",
       "<tr>\n",
       "  <th>No. Observations:</th>         <td>134481</td>         <th>  AIC:               </th>  <td>4.315e+05</td> \n",
       "</tr>\n",
       "<tr>\n",
       "  <th>Df Residuals:</th>             <td>134479</td>         <th>  BIC:               </th>  <td>4.315e+05</td> \n",
       "</tr>\n",
       "<tr>\n",
       "  <th>Df Model:</th>                 <td>     1</td>         <th>                     </th>      <td> </td>     \n",
       "</tr>\n",
       "<tr>\n",
       "  <th>Covariance Type:</th>         <td>nonrobust</td>       <th>                     </th>      <td> </td>     \n",
       "</tr>\n",
       "</table>\n",
       "<table class=\"simpletable\">\n",
       "<tr>\n",
       "                    <td></td>                      <th>coef</th>     <th>std err</th>      <th>t</th>      <th>P>|t|</th>  <th>[0.025</th>    <th>0.975]</th>  \n",
       "</tr>\n",
       "<tr>\n",
       "  <th>Intercept</th>                            <td>   11.5819</td> <td>    0.046</td> <td>  253.270</td> <td> 0.000</td> <td>   11.492</td> <td>   11.671</td>\n",
       "</tr>\n",
       "<tr>\n",
       "  <th>Borrower_Credit_Score_at_Origination</th> <td>   -0.0086</td> <td> 6.14e-05</td> <td> -139.198</td> <td> 0.000</td> <td>   -0.009</td> <td>   -0.008</td>\n",
       "</tr>\n",
       "</table>\n",
       "<table class=\"simpletable\">\n",
       "<tr>\n",
       "  <th>Omnibus:</th>       <td>2660.479</td> <th>  Durbin-Watson:     </th> <td>   0.397</td>\n",
       "</tr>\n",
       "<tr>\n",
       "  <th>Prob(Omnibus):</th>  <td> 0.000</td>  <th>  Jarque-Bera (JB):  </th> <td>2660.737</td>\n",
       "</tr>\n",
       "<tr>\n",
       "  <th>Skew:</th>           <td> 0.321</td>  <th>  Prob(JB):          </th> <td>    0.00</td>\n",
       "</tr>\n",
       "<tr>\n",
       "  <th>Kurtosis:</th>       <td> 2.750</td>  <th>  Cond. No.          </th> <td>1.04e+04</td>\n",
       "</tr>\n",
       "</table><br/><br/>Notes:<br/>[1] Standard Errors assume that the covariance matrix of the errors is correctly specified.<br/>[2] The condition number is large, 1.04e+04. This might indicate that there are<br/>strong multicollinearity or other numerical problems."
      ],
      "text/latex": [
       "\\begin{center}\n",
       "\\begin{tabular}{lclc}\n",
       "\\toprule\n",
       "\\textbf{Dep. Variable:}                           & Original\\_Interest\\_Rate & \\textbf{  R-squared:         } &      0.126   \\\\\n",
       "\\textbf{Model:}                                   &           OLS            & \\textbf{  Adj. R-squared:    } &      0.126   \\\\\n",
       "\\textbf{Method:}                                  &      Least Squares       & \\textbf{  F-statistic:       } &  1.938e+04   \\\\\n",
       "\\textbf{Date:}                                    &     Thu, 20 Mar 2025     & \\textbf{  Prob (F-statistic):} &      0.00    \\\\\n",
       "\\textbf{Time:}                                    &         12:42:22         & \\textbf{  Log-Likelihood:    } & -2.1575e+05  \\\\\n",
       "\\textbf{No. Observations:}                        &          134481          & \\textbf{  AIC:               } &  4.315e+05   \\\\\n",
       "\\textbf{Df Residuals:}                            &          134479          & \\textbf{  BIC:               } &  4.315e+05   \\\\\n",
       "\\textbf{Df Model:}                                &               1          & \\textbf{                     } &              \\\\\n",
       "\\textbf{Covariance Type:}                         &        nonrobust         & \\textbf{                     } &              \\\\\n",
       "\\bottomrule\n",
       "\\end{tabular}\n",
       "\\begin{tabular}{lcccccc}\n",
       "                                                  & \\textbf{coef} & \\textbf{std err} & \\textbf{t} & \\textbf{P$> |$t$|$} & \\textbf{[0.025} & \\textbf{0.975]}  \\\\\n",
       "\\midrule\n",
       "\\textbf{Intercept}                                &      11.5819  &        0.046     &   253.270  &         0.000        &       11.492    &       11.671     \\\\\n",
       "\\textbf{Borrower\\_Credit\\_Score\\_at\\_Origination} &      -0.0086  &     6.14e-05     &  -139.198  &         0.000        &       -0.009    &       -0.008     \\\\\n",
       "\\bottomrule\n",
       "\\end{tabular}\n",
       "\\begin{tabular}{lclc}\n",
       "\\textbf{Omnibus:}       & 2660.479 & \\textbf{  Durbin-Watson:     } &    0.397  \\\\\n",
       "\\textbf{Prob(Omnibus):} &   0.000  & \\textbf{  Jarque-Bera (JB):  } & 2660.737  \\\\\n",
       "\\textbf{Skew:}          &   0.321  & \\textbf{  Prob(JB):          } &     0.00  \\\\\n",
       "\\textbf{Kurtosis:}      &   2.750  & \\textbf{  Cond. No.          } & 1.04e+04  \\\\\n",
       "\\bottomrule\n",
       "\\end{tabular}\n",
       "%\\caption{OLS Regression Results}\n",
       "\\end{center}\n",
       "\n",
       "Notes: \\newline\n",
       " [1] Standard Errors assume that the covariance matrix of the errors is correctly specified. \\newline\n",
       " [2] The condition number is large, 1.04e+04. This might indicate that there are \\newline\n",
       " strong multicollinearity or other numerical problems."
      ],
      "text/plain": [
       "<class 'statsmodels.iolib.summary.Summary'>\n",
       "\"\"\"\n",
       "                              OLS Regression Results                              \n",
       "==================================================================================\n",
       "Dep. Variable:     Original_Interest_Rate   R-squared:                       0.126\n",
       "Model:                                OLS   Adj. R-squared:                  0.126\n",
       "Method:                     Least Squares   F-statistic:                 1.938e+04\n",
       "Date:                    Thu, 20 Mar 2025   Prob (F-statistic):               0.00\n",
       "Time:                            12:42:22   Log-Likelihood:            -2.1575e+05\n",
       "No. Observations:                  134481   AIC:                         4.315e+05\n",
       "Df Residuals:                      134479   BIC:                         4.315e+05\n",
       "Df Model:                               1                                         \n",
       "Covariance Type:                nonrobust                                         \n",
       "========================================================================================================\n",
       "                                           coef    std err          t      P>|t|      [0.025      0.975]\n",
       "--------------------------------------------------------------------------------------------------------\n",
       "Intercept                               11.5819      0.046    253.270      0.000      11.492      11.671\n",
       "Borrower_Credit_Score_at_Origination    -0.0086   6.14e-05   -139.198      0.000      -0.009      -0.008\n",
       "==============================================================================\n",
       "Omnibus:                     2660.479   Durbin-Watson:                   0.397\n",
       "Prob(Omnibus):                  0.000   Jarque-Bera (JB):             2660.737\n",
       "Skew:                           0.321   Prob(JB):                         0.00\n",
       "Kurtosis:                       2.750   Cond. No.                     1.04e+04\n",
       "==============================================================================\n",
       "\n",
       "Notes:\n",
       "[1] Standard Errors assume that the covariance matrix of the errors is correctly specified.\n",
       "[2] The condition number is large, 1.04e+04. This might indicate that there are\n",
       "strong multicollinearity or other numerical problems.\n",
       "\"\"\""
      ]
     },
     "execution_count": 13,
     "metadata": {},
     "output_type": "execute_result"
    }
   ],
   "source": [
    "# A as a one liner\n",
    "sm_ols('Original_Interest_Rate ~ Borrower_Credit_Score_at_Origination', data=fannie_mae).fit().summary()\n",
    "\n"
   ]
  },
  {
   "cell_type": "code",
   "execution_count": null,
   "metadata": {},
   "outputs": [
    {
     "data": {
      "text/html": [
       "<table class=\"simpletable\">\n",
       "<caption>OLS Regression Results</caption>\n",
       "<tr>\n",
       "  <th>Dep. Variable:</th>    <td>Original_Interest_Rate</td> <th>  R-squared:         </th>  <td>   0.124</td>  \n",
       "</tr>\n",
       "<tr>\n",
       "  <th>Model:</th>                      <td>OLS</td>          <th>  Adj. R-squared:    </th>  <td>   0.124</td>  \n",
       "</tr>\n",
       "<tr>\n",
       "  <th>Method:</th>                <td>Least Squares</td>     <th>  F-statistic:       </th>  <td>1.906e+04</td> \n",
       "</tr>\n",
       "<tr>\n",
       "  <th>Date:</th>                <td>Thu, 20 Mar 2025</td>    <th>  Prob (F-statistic):</th>   <td>  0.00</td>   \n",
       "</tr>\n",
       "<tr>\n",
       "  <th>Time:</th>                    <td>12:46:07</td>        <th>  Log-Likelihood:    </th> <td>-2.1589e+05</td>\n",
       "</tr>\n",
       "<tr>\n",
       "  <th>No. Observations:</th>         <td>134481</td>         <th>  AIC:               </th>  <td>4.318e+05</td> \n",
       "</tr>\n",
       "<tr>\n",
       "  <th>Df Residuals:</th>             <td>134479</td>         <th>  BIC:               </th>  <td>4.318e+05</td> \n",
       "</tr>\n",
       "<tr>\n",
       "  <th>Df Model:</th>                 <td>     1</td>         <th>                     </th>      <td> </td>     \n",
       "</tr>\n",
       "<tr>\n",
       "  <th>Covariance Type:</th>         <td>nonrobust</td>       <th>                     </th>      <td> </td>     \n",
       "</tr>\n",
       "</table>\n",
       "<table class=\"simpletable\">\n",
       "<tr>\n",
       "                        <td></td>                          <th>coef</th>     <th>std err</th>      <th>t</th>      <th>P>|t|</th>  <th>[0.025</th>    <th>0.975]</th>  \n",
       "</tr>\n",
       "<tr>\n",
       "  <th>Intercept</th>                                    <td>   45.3715</td> <td>    0.291</td> <td>  156.057</td> <td> 0.000</td> <td>   44.802</td> <td>   45.941</td>\n",
       "</tr>\n",
       "<tr>\n",
       "  <th>np.log(Borrower_Credit_Score_at_Origination)</th> <td>   -6.0750</td> <td>    0.044</td> <td> -138.067</td> <td> 0.000</td> <td>   -6.161</td> <td>   -5.989</td>\n",
       "</tr>\n",
       "</table>\n",
       "<table class=\"simpletable\">\n",
       "<tr>\n",
       "  <th>Omnibus:</th>       <td>2741.277</td> <th>  Durbin-Watson:     </th> <td>   0.394</td>\n",
       "</tr>\n",
       "<tr>\n",
       "  <th>Prob(Omnibus):</th>  <td> 0.000</td>  <th>  Jarque-Bera (JB):  </th> <td>2737.156</td>\n",
       "</tr>\n",
       "<tr>\n",
       "  <th>Skew:</th>           <td> 0.325</td>  <th>  Prob(JB):          </th> <td>    0.00</td>\n",
       "</tr>\n",
       "<tr>\n",
       "  <th>Kurtosis:</th>       <td> 2.744</td>  <th>  Cond. No.          </th> <td>    598.</td>\n",
       "</tr>\n",
       "</table><br/><br/>Notes:<br/>[1] Standard Errors assume that the covariance matrix of the errors is correctly specified."
      ],
      "text/latex": [
       "\\begin{center}\n",
       "\\begin{tabular}{lclc}\n",
       "\\toprule\n",
       "\\textbf{Dep. Variable:}                                   & Original\\_Interest\\_Rate & \\textbf{  R-squared:         } &      0.124   \\\\\n",
       "\\textbf{Model:}                                           &           OLS            & \\textbf{  Adj. R-squared:    } &      0.124   \\\\\n",
       "\\textbf{Method:}                                          &      Least Squares       & \\textbf{  F-statistic:       } &  1.906e+04   \\\\\n",
       "\\textbf{Date:}                                            &     Thu, 20 Mar 2025     & \\textbf{  Prob (F-statistic):} &      0.00    \\\\\n",
       "\\textbf{Time:}                                            &         12:46:07         & \\textbf{  Log-Likelihood:    } & -2.1589e+05  \\\\\n",
       "\\textbf{No. Observations:}                                &          134481          & \\textbf{  AIC:               } &  4.318e+05   \\\\\n",
       "\\textbf{Df Residuals:}                                    &          134479          & \\textbf{  BIC:               } &  4.318e+05   \\\\\n",
       "\\textbf{Df Model:}                                        &               1          & \\textbf{                     } &              \\\\\n",
       "\\textbf{Covariance Type:}                                 &        nonrobust         & \\textbf{                     } &              \\\\\n",
       "\\bottomrule\n",
       "\\end{tabular}\n",
       "\\begin{tabular}{lcccccc}\n",
       "                                                          & \\textbf{coef} & \\textbf{std err} & \\textbf{t} & \\textbf{P$> |$t$|$} & \\textbf{[0.025} & \\textbf{0.975]}  \\\\\n",
       "\\midrule\n",
       "\\textbf{Intercept}                                        &      45.3715  &        0.291     &   156.057  &         0.000        &       44.802    &       45.941     \\\\\n",
       "\\textbf{np.log(Borrower\\_Credit\\_Score\\_at\\_Origination)} &      -6.0750  &        0.044     &  -138.067  &         0.000        &       -6.161    &       -5.989     \\\\\n",
       "\\bottomrule\n",
       "\\end{tabular}\n",
       "\\begin{tabular}{lclc}\n",
       "\\textbf{Omnibus:}       & 2741.277 & \\textbf{  Durbin-Watson:     } &    0.394  \\\\\n",
       "\\textbf{Prob(Omnibus):} &   0.000  & \\textbf{  Jarque-Bera (JB):  } & 2737.156  \\\\\n",
       "\\textbf{Skew:}          &   0.325  & \\textbf{  Prob(JB):          } &     0.00  \\\\\n",
       "\\textbf{Kurtosis:}      &   2.744  & \\textbf{  Cond. No.          } &     598.  \\\\\n",
       "\\bottomrule\n",
       "\\end{tabular}\n",
       "%\\caption{OLS Regression Results}\n",
       "\\end{center}\n",
       "\n",
       "Notes: \\newline\n",
       " [1] Standard Errors assume that the covariance matrix of the errors is correctly specified."
      ],
      "text/plain": [
       "<class 'statsmodels.iolib.summary.Summary'>\n",
       "\"\"\"\n",
       "                              OLS Regression Results                              \n",
       "==================================================================================\n",
       "Dep. Variable:     Original_Interest_Rate   R-squared:                       0.124\n",
       "Model:                                OLS   Adj. R-squared:                  0.124\n",
       "Method:                     Least Squares   F-statistic:                 1.906e+04\n",
       "Date:                    Thu, 20 Mar 2025   Prob (F-statistic):               0.00\n",
       "Time:                            12:46:07   Log-Likelihood:            -2.1589e+05\n",
       "No. Observations:                  134481   AIC:                         4.318e+05\n",
       "Df Residuals:                      134479   BIC:                         4.318e+05\n",
       "Df Model:                               1                                         \n",
       "Covariance Type:                nonrobust                                         \n",
       "================================================================================================================\n",
       "                                                   coef    std err          t      P>|t|      [0.025      0.975]\n",
       "----------------------------------------------------------------------------------------------------------------\n",
       "Intercept                                       45.3715      0.291    156.057      0.000      44.802      45.941\n",
       "np.log(Borrower_Credit_Score_at_Origination)    -6.0750      0.044   -138.067      0.000      -6.161      -5.989\n",
       "==============================================================================\n",
       "Omnibus:                     2741.277   Durbin-Watson:                   0.394\n",
       "Prob(Omnibus):                  0.000   Jarque-Bera (JB):             2737.156\n",
       "Skew:                           0.325   Prob(JB):                         0.00\n",
       "Kurtosis:                       2.744   Cond. No.                         598.\n",
       "==============================================================================\n",
       "\n",
       "Notes:\n",
       "[1] Standard Errors assume that the covariance matrix of the errors is correctly specified.\n",
       "\"\"\""
      ]
     },
     "execution_count": 15,
     "metadata": {},
     "output_type": "execute_result"
    }
   ],
   "source": [
    "# B with pre transformed variable\n",
    "sm_ols('Original_Interest_Rate ~ l_credscore', data=fannie_mae).fit().summary()\n",
    "\n",
    "# B transformnig the variable inside the formula\n",
    "sm_ols('Original_Interest_Rate ~ np.log(Borrower_Credit_Score_at_Origination)', data=fannie_mae).fit().summary()\n"
   ]
  },
  {
   "cell_type": "code",
   "execution_count": null,
   "metadata": {},
   "outputs": [
    {
     "data": {
      "text/html": [
       "<table class=\"simpletable\">\n",
       "<caption>OLS Regression Results</caption>\n",
       "<tr>\n",
       "  <th>Dep. Variable:</th>    <td>Original_Interest_Rate</td> <th>  R-squared:         </th>  <td>   0.007</td>  \n",
       "</tr>\n",
       "<tr>\n",
       "  <th>Model:</th>                      <td>OLS</td>          <th>  Adj. R-squared:    </th>  <td>   0.007</td>  \n",
       "</tr>\n",
       "<tr>\n",
       "  <th>Method:</th>                <td>Least Squares</td>     <th>  F-statistic:       </th>  <td>   1010.</td>  \n",
       "</tr>\n",
       "<tr>\n",
       "  <th>Date:</th>                <td>Thu, 20 Mar 2025</td>    <th>  Prob (F-statistic):</th>  <td>8.41e-221</td> \n",
       "</tr>\n",
       "<tr>\n",
       "  <th>Time:</th>                    <td>12:49:30</td>        <th>  Log-Likelihood:    </th> <td>-2.2548e+05</td>\n",
       "</tr>\n",
       "<tr>\n",
       "  <th>No. Observations:</th>         <td>135038</td>         <th>  AIC:               </th>  <td>4.510e+05</td> \n",
       "</tr>\n",
       "<tr>\n",
       "  <th>Df Residuals:</th>             <td>135036</td>         <th>  BIC:               </th>  <td>4.510e+05</td> \n",
       "</tr>\n",
       "<tr>\n",
       "  <th>Df Model:</th>                 <td>     1</td>         <th>                     </th>      <td> </td>     \n",
       "</tr>\n",
       "<tr>\n",
       "  <th>Covariance Type:</th>         <td>nonrobust</td>       <th>                     </th>      <td> </td>     \n",
       "</tr>\n",
       "</table>\n",
       "<table class=\"simpletable\">\n",
       "<tr>\n",
       "                  <td></td>                    <th>coef</th>     <th>std err</th>      <th>t</th>      <th>P>|t|</th>  <th>[0.025</th>    <th>0.975]</th>  \n",
       "</tr>\n",
       "<tr>\n",
       "  <th>Intercept</th>                        <td>    3.7603</td> <td>    0.047</td> <td>   80.622</td> <td> 0.000</td> <td>    3.669</td> <td>    3.852</td>\n",
       "</tr>\n",
       "<tr>\n",
       "  <th>np.log(Q(\"Original_LTV_(OLTV)\"))</th> <td>    0.3513</td> <td>    0.011</td> <td>   31.779</td> <td> 0.000</td> <td>    0.330</td> <td>    0.373</td>\n",
       "</tr>\n",
       "</table>\n",
       "<table class=\"simpletable\">\n",
       "<tr>\n",
       "  <th>Omnibus:</th>       <td>4889.290</td> <th>  Durbin-Watson:     </th> <td>   0.214</td>\n",
       "</tr>\n",
       "<tr>\n",
       "  <th>Prob(Omnibus):</th>  <td> 0.000</td>  <th>  Jarque-Bera (JB):  </th> <td>3115.913</td>\n",
       "</tr>\n",
       "<tr>\n",
       "  <th>Skew:</th>           <td> 0.245</td>  <th>  Prob(JB):          </th> <td>    0.00</td>\n",
       "</tr>\n",
       "<tr>\n",
       "  <th>Kurtosis:</th>       <td> 2.439</td>  <th>  Cond. No.          </th> <td>    59.4</td>\n",
       "</tr>\n",
       "</table><br/><br/>Notes:<br/>[1] Standard Errors assume that the covariance matrix of the errors is correctly specified."
      ],
      "text/latex": [
       "\\begin{center}\n",
       "\\begin{tabular}{lclc}\n",
       "\\toprule\n",
       "\\textbf{Dep. Variable:}                     & Original\\_Interest\\_Rate & \\textbf{  R-squared:         } &      0.007   \\\\\n",
       "\\textbf{Model:}                             &           OLS            & \\textbf{  Adj. R-squared:    } &      0.007   \\\\\n",
       "\\textbf{Method:}                            &      Least Squares       & \\textbf{  F-statistic:       } &      1010.   \\\\\n",
       "\\textbf{Date:}                              &     Thu, 20 Mar 2025     & \\textbf{  Prob (F-statistic):} &  8.41e-221   \\\\\n",
       "\\textbf{Time:}                              &         12:49:30         & \\textbf{  Log-Likelihood:    } & -2.2548e+05  \\\\\n",
       "\\textbf{No. Observations:}                  &          135038          & \\textbf{  AIC:               } &  4.510e+05   \\\\\n",
       "\\textbf{Df Residuals:}                      &          135036          & \\textbf{  BIC:               } &  4.510e+05   \\\\\n",
       "\\textbf{Df Model:}                          &               1          & \\textbf{                     } &              \\\\\n",
       "\\textbf{Covariance Type:}                   &        nonrobust         & \\textbf{                     } &              \\\\\n",
       "\\bottomrule\n",
       "\\end{tabular}\n",
       "\\begin{tabular}{lcccccc}\n",
       "                                            & \\textbf{coef} & \\textbf{std err} & \\textbf{t} & \\textbf{P$> |$t$|$} & \\textbf{[0.025} & \\textbf{0.975]}  \\\\\n",
       "\\midrule\n",
       "\\textbf{Intercept}                          &       3.7603  &        0.047     &    80.622  &         0.000        &        3.669    &        3.852     \\\\\n",
       "\\textbf{np.log(Q(\"Original\\_LTV\\_(OLTV)\"))} &       0.3513  &        0.011     &    31.779  &         0.000        &        0.330    &        0.373     \\\\\n",
       "\\bottomrule\n",
       "\\end{tabular}\n",
       "\\begin{tabular}{lclc}\n",
       "\\textbf{Omnibus:}       & 4889.290 & \\textbf{  Durbin-Watson:     } &    0.214  \\\\\n",
       "\\textbf{Prob(Omnibus):} &   0.000  & \\textbf{  Jarque-Bera (JB):  } & 3115.913  \\\\\n",
       "\\textbf{Skew:}          &   0.245  & \\textbf{  Prob(JB):          } &     0.00  \\\\\n",
       "\\textbf{Kurtosis:}      &   2.439  & \\textbf{  Cond. No.          } &     59.4  \\\\\n",
       "\\bottomrule\n",
       "\\end{tabular}\n",
       "%\\caption{OLS Regression Results}\n",
       "\\end{center}\n",
       "\n",
       "Notes: \\newline\n",
       " [1] Standard Errors assume that the covariance matrix of the errors is correctly specified."
      ],
      "text/plain": [
       "<class 'statsmodels.iolib.summary.Summary'>\n",
       "\"\"\"\n",
       "                              OLS Regression Results                              \n",
       "==================================================================================\n",
       "Dep. Variable:     Original_Interest_Rate   R-squared:                       0.007\n",
       "Model:                                OLS   Adj. R-squared:                  0.007\n",
       "Method:                     Least Squares   F-statistic:                     1010.\n",
       "Date:                    Thu, 20 Mar 2025   Prob (F-statistic):          8.41e-221\n",
       "Time:                            12:49:30   Log-Likelihood:            -2.2548e+05\n",
       "No. Observations:                  135038   AIC:                         4.510e+05\n",
       "Df Residuals:                      135036   BIC:                         4.510e+05\n",
       "Df Model:                               1                                         \n",
       "Covariance Type:                nonrobust                                         \n",
       "====================================================================================================\n",
       "                                       coef    std err          t      P>|t|      [0.025      0.975]\n",
       "----------------------------------------------------------------------------------------------------\n",
       "Intercept                            3.7603      0.047     80.622      0.000       3.669       3.852\n",
       "np.log(Q(\"Original_LTV_(OLTV)\"))     0.3513      0.011     31.779      0.000       0.330       0.373\n",
       "==============================================================================\n",
       "Omnibus:                     4889.290   Durbin-Watson:                   0.214\n",
       "Prob(Omnibus):                  0.000   Jarque-Bera (JB):             3115.913\n",
       "Skew:                           0.245   Prob(JB):                         0.00\n",
       "Kurtosis:                       2.439   Cond. No.                         59.4\n",
       "==============================================================================\n",
       "\n",
       "Notes:\n",
       "[1] Standard Errors assume that the covariance matrix of the errors is correctly specified.\n",
       "\"\"\""
      ]
     },
     "execution_count": 18,
     "metadata": {},
     "output_type": "execute_result"
    }
   ],
   "source": [
    "# C with pre transformed variable\n",
    "sm_ols('Original_Interest_Rate ~ l_LTV', data=fannie_mae).fit().summary()\n",
    "\n",
    "# C transformnig the variable inside the formula\n",
    "# here - the variable name is \"ill formatted\" - we need to tell the formula that all of Original_LTV_(OLTV) is the variable name\n",
    "# you do that by wrapping the variable name in Q(\"\")\n",
    "sm_ols('Original_Interest_Rate ~ np.log(  Q(\"Original_LTV_(OLTV)\")  )', data=fannie_mae).fit().summary()"
   ]
  },
  {
   "cell_type": "code",
   "execution_count": null,
   "metadata": {},
   "outputs": [
    {
     "data": {
      "text/html": [
       "<table class=\"simpletable\">\n",
       "<caption>OLS Regression Results</caption>\n",
       "<tr>\n",
       "  <th>Dep. Variable:</th>    <td>Original_Interest_Rate</td> <th>  R-squared:         </th>  <td>   0.126</td>  \n",
       "</tr>\n",
       "<tr>\n",
       "  <th>Model:</th>                      <td>OLS</td>          <th>  Adj. R-squared:    </th>  <td>   0.126</td>  \n",
       "</tr>\n",
       "<tr>\n",
       "  <th>Method:</th>                <td>Least Squares</td>     <th>  F-statistic:       </th>  <td>   9656.</td>  \n",
       "</tr>\n",
       "<tr>\n",
       "  <th>Date:</th>                <td>Thu, 20 Mar 2025</td>    <th>  Prob (F-statistic):</th>   <td>  0.00</td>   \n",
       "</tr>\n",
       "<tr>\n",
       "  <th>Time:</th>                    <td>12:53:20</td>        <th>  Log-Likelihood:    </th> <td>-2.1578e+05</td>\n",
       "</tr>\n",
       "<tr>\n",
       "  <th>No. Observations:</th>         <td>134481</td>         <th>  AIC:               </th>  <td>4.316e+05</td> \n",
       "</tr>\n",
       "<tr>\n",
       "  <th>Df Residuals:</th>             <td>134478</td>         <th>  BIC:               </th>  <td>4.316e+05</td> \n",
       "</tr>\n",
       "<tr>\n",
       "  <th>Df Model:</th>                 <td>     2</td>         <th>                     </th>      <td> </td>     \n",
       "</tr>\n",
       "<tr>\n",
       "  <th>Covariance Type:</th>         <td>nonrobust</td>       <th>                     </th>      <td> </td>     \n",
       "</tr>\n",
       "</table>\n",
       "<table class=\"simpletable\">\n",
       "<tr>\n",
       "                        <td></td>                          <th>coef</th>     <th>std err</th>      <th>t</th>      <th>P>|t|</th>  <th>[0.025</th>    <th>0.975]</th>  \n",
       "</tr>\n",
       "<tr>\n",
       "  <th>Intercept</th>                                    <td>   44.1324</td> <td>    0.302</td> <td>  145.949</td> <td> 0.000</td> <td>   43.540</td> <td>   44.725</td>\n",
       "</tr>\n",
       "<tr>\n",
       "  <th>np.log(Borrower_Credit_Score_at_Origination)</th> <td>   -5.9859</td> <td>    0.044</td> <td> -134.888</td> <td> 0.000</td> <td>   -6.073</td> <td>   -5.899</td>\n",
       "</tr>\n",
       "<tr>\n",
       "  <th>np.log(Q(\"Original_LTV_(OLTV)\"))</th>             <td>    0.1546</td> <td>    0.010</td> <td>   14.765</td> <td> 0.000</td> <td>    0.134</td> <td>    0.175</td>\n",
       "</tr>\n",
       "</table>\n",
       "<table class=\"simpletable\">\n",
       "<tr>\n",
       "  <th>Omnibus:</th>       <td>2793.369</td> <th>  Durbin-Watson:     </th> <td>   0.386</td>\n",
       "</tr>\n",
       "<tr>\n",
       "  <th>Prob(Omnibus):</th>  <td> 0.000</td>  <th>  Jarque-Bera (JB):  </th> <td>2743.990</td>\n",
       "</tr>\n",
       "<tr>\n",
       "  <th>Skew:</th>           <td> 0.321</td>  <th>  Prob(JB):          </th> <td>    0.00</td>\n",
       "</tr>\n",
       "<tr>\n",
       "  <th>Kurtosis:</th>       <td> 2.720</td>  <th>  Cond. No.          </th> <td>    735.</td>\n",
       "</tr>\n",
       "</table><br/><br/>Notes:<br/>[1] Standard Errors assume that the covariance matrix of the errors is correctly specified."
      ],
      "text/latex": [
       "\\begin{center}\n",
       "\\begin{tabular}{lclc}\n",
       "\\toprule\n",
       "\\textbf{Dep. Variable:}                                   & Original\\_Interest\\_Rate & \\textbf{  R-squared:         } &      0.126   \\\\\n",
       "\\textbf{Model:}                                           &           OLS            & \\textbf{  Adj. R-squared:    } &      0.126   \\\\\n",
       "\\textbf{Method:}                                          &      Least Squares       & \\textbf{  F-statistic:       } &      9656.   \\\\\n",
       "\\textbf{Date:}                                            &     Thu, 20 Mar 2025     & \\textbf{  Prob (F-statistic):} &      0.00    \\\\\n",
       "\\textbf{Time:}                                            &         12:53:20         & \\textbf{  Log-Likelihood:    } & -2.1578e+05  \\\\\n",
       "\\textbf{No. Observations:}                                &          134481          & \\textbf{  AIC:               } &  4.316e+05   \\\\\n",
       "\\textbf{Df Residuals:}                                    &          134478          & \\textbf{  BIC:               } &  4.316e+05   \\\\\n",
       "\\textbf{Df Model:}                                        &               2          & \\textbf{                     } &              \\\\\n",
       "\\textbf{Covariance Type:}                                 &        nonrobust         & \\textbf{                     } &              \\\\\n",
       "\\bottomrule\n",
       "\\end{tabular}\n",
       "\\begin{tabular}{lcccccc}\n",
       "                                                          & \\textbf{coef} & \\textbf{std err} & \\textbf{t} & \\textbf{P$> |$t$|$} & \\textbf{[0.025} & \\textbf{0.975]}  \\\\\n",
       "\\midrule\n",
       "\\textbf{Intercept}                                        &      44.1324  &        0.302     &   145.949  &         0.000        &       43.540    &       44.725     \\\\\n",
       "\\textbf{np.log(Borrower\\_Credit\\_Score\\_at\\_Origination)} &      -5.9859  &        0.044     &  -134.888  &         0.000        &       -6.073    &       -5.899     \\\\\n",
       "\\textbf{np.log(Q(\"Original\\_LTV\\_(OLTV)\"))}               &       0.1546  &        0.010     &    14.765  &         0.000        &        0.134    &        0.175     \\\\\n",
       "\\bottomrule\n",
       "\\end{tabular}\n",
       "\\begin{tabular}{lclc}\n",
       "\\textbf{Omnibus:}       & 2793.369 & \\textbf{  Durbin-Watson:     } &    0.386  \\\\\n",
       "\\textbf{Prob(Omnibus):} &   0.000  & \\textbf{  Jarque-Bera (JB):  } & 2743.990  \\\\\n",
       "\\textbf{Skew:}          &   0.321  & \\textbf{  Prob(JB):          } &     0.00  \\\\\n",
       "\\textbf{Kurtosis:}      &   2.720  & \\textbf{  Cond. No.          } &     735.  \\\\\n",
       "\\bottomrule\n",
       "\\end{tabular}\n",
       "%\\caption{OLS Regression Results}\n",
       "\\end{center}\n",
       "\n",
       "Notes: \\newline\n",
       " [1] Standard Errors assume that the covariance matrix of the errors is correctly specified."
      ],
      "text/plain": [
       "<class 'statsmodels.iolib.summary.Summary'>\n",
       "\"\"\"\n",
       "                              OLS Regression Results                              \n",
       "==================================================================================\n",
       "Dep. Variable:     Original_Interest_Rate   R-squared:                       0.126\n",
       "Model:                                OLS   Adj. R-squared:                  0.126\n",
       "Method:                     Least Squares   F-statistic:                     9656.\n",
       "Date:                    Thu, 20 Mar 2025   Prob (F-statistic):               0.00\n",
       "Time:                            12:53:20   Log-Likelihood:            -2.1578e+05\n",
       "No. Observations:                  134481   AIC:                         4.316e+05\n",
       "Df Residuals:                      134478   BIC:                         4.316e+05\n",
       "Df Model:                               2                                         \n",
       "Covariance Type:                nonrobust                                         \n",
       "================================================================================================================\n",
       "                                                   coef    std err          t      P>|t|      [0.025      0.975]\n",
       "----------------------------------------------------------------------------------------------------------------\n",
       "Intercept                                       44.1324      0.302    145.949      0.000      43.540      44.725\n",
       "np.log(Borrower_Credit_Score_at_Origination)    -5.9859      0.044   -134.888      0.000      -6.073      -5.899\n",
       "np.log(Q(\"Original_LTV_(OLTV)\"))                 0.1546      0.010     14.765      0.000       0.134       0.175\n",
       "==============================================================================\n",
       "Omnibus:                     2793.369   Durbin-Watson:                   0.386\n",
       "Prob(Omnibus):                  0.000   Jarque-Bera (JB):             2743.990\n",
       "Skew:                           0.321   Prob(JB):                         0.00\n",
       "Kurtosis:                       2.720   Cond. No.                         735.\n",
       "==============================================================================\n",
       "\n",
       "Notes:\n",
       "[1] Standard Errors assume that the covariance matrix of the errors is correctly specified.\n",
       "\"\"\""
      ]
     },
     "execution_count": 21,
     "metadata": {},
     "output_type": "execute_result"
    }
   ],
   "source": [
    "# D \n",
    "sm_ols('Original_Interest_Rate ~ l_credscore + l_LTV', data=fannie_mae).fit().summary()\n",
    "\n",
    "# D with pre-transformed variables\n",
    "sm_ols('Original_Interest_Rate ~ np.log(Borrower_Credit_Score_at_Origination) + np.log(  Q(\"Original_LTV_(OLTV)\")  )', data=fannie_mae).fit().summary()"
   ]
  },
  {
   "cell_type": "markdown",
   "metadata": {},
   "source": [
    "### Q2: Best practices: Look at the outputs every time\n",
    "\n",
    "Let's talk about the outputs you see and should look at EVERY time you run a regression:\n",
    "- Number of obs\n",
    "- R2 \n",
    "- AR2\n",
    "- Coef \n",
    "- Std error, t value, p value (\"P>|t|\")\n",
    "- Std error options:\n",
    "    - `.fit(cov_type=\"HC2\")`\n",
    "    - `.fit(cov_type=\"cluster\", cov_kwds={\"groups\": df[\"industry\"]})`"
   ]
  },
  {
   "cell_type": "code",
   "execution_count": null,
   "metadata": {},
   "outputs": [],
   "source": []
  },
  {
   "cell_type": "markdown",
   "metadata": {},
   "source": [
    "### Q3: Regressions with transformations\n",
    "\n",
    "We are talking about \"linear regression. What that means is that the model is linear in the regressors: but it doesn’t mean that those regressors can't be some kind of non-linear transform of the original features $x_i$.\" The most common transformations are logging variables, interaction terms, and polynomial terms.\"\n",
    "\n",
    "We already did log transformations above. \n",
    "\n",
    "An interaction term simply means one regressor is two variables multiplied:\n",
    "- $y=\\beta_0 + \\beta_1 x_1 + \\beta_2 x_1 x_2$\n",
    "- $y=\\beta_0 + \\beta_1 x_1 + \\beta_2 x_2 + \\beta_3 x_1 x_2 $\n",
    "\n",
    "Polynomial terms might look like:\n",
    "- $y=\\beta_0 + \\beta_1 x_1 + \\beta_2 x_1^2$\n",
    "\n",
    "A. Regress y on the credit score and the credit score squared. \n",
    "\n",
    "B. Regress y on the natural log of the loan-to-value, the natural log of the credit score, and the interaction of LTV and credit score. \n",
    "\n"
   ]
  },
  {
   "cell_type": "code",
   "execution_count": 25,
   "metadata": {},
   "outputs": [
    {
     "data": {
      "text/plain": [
       "8"
      ]
     },
     "execution_count": 25,
     "metadata": {},
     "output_type": "execute_result"
    }
   ],
   "source": [
    "pow(2,3)"
   ]
  },
  {
   "cell_type": "code",
   "execution_count": null,
   "metadata": {},
   "outputs": [
    {
     "data": {
      "text/html": [
       "<table class=\"simpletable\">\n",
       "<caption>OLS Regression Results</caption>\n",
       "<tr>\n",
       "  <th>Dep. Variable:</th>    <td>Original_Interest_Rate</td> <th>  R-squared:         </th>  <td>   0.128</td>  \n",
       "</tr>\n",
       "<tr>\n",
       "  <th>Model:</th>                      <td>OLS</td>          <th>  Adj. R-squared:    </th>  <td>   0.128</td>  \n",
       "</tr>\n",
       "<tr>\n",
       "  <th>Method:</th>                <td>Least Squares</td>     <th>  F-statistic:       </th>  <td>   9880.</td>  \n",
       "</tr>\n",
       "<tr>\n",
       "  <th>Date:</th>                <td>Thu, 20 Mar 2025</td>    <th>  Prob (F-statistic):</th>   <td>  0.00</td>   \n",
       "</tr>\n",
       "<tr>\n",
       "  <th>Time:</th>                    <td>13:01:07</td>        <th>  Log-Likelihood:    </th> <td>-2.1558e+05</td>\n",
       "</tr>\n",
       "<tr>\n",
       "  <th>No. Observations:</th>         <td>134481</td>         <th>  AIC:               </th>  <td>4.312e+05</td> \n",
       "</tr>\n",
       "<tr>\n",
       "  <th>Df Residuals:</th>             <td>134478</td>         <th>  BIC:               </th>  <td>4.312e+05</td> \n",
       "</tr>\n",
       "<tr>\n",
       "  <th>Df Model:</th>                 <td>     2</td>         <th>                     </th>      <td> </td>     \n",
       "</tr>\n",
       "<tr>\n",
       "  <th>Covariance Type:</th>         <td>nonrobust</td>       <th>                     </th>      <td> </td>     \n",
       "</tr>\n",
       "</table>\n",
       "<table class=\"simpletable\">\n",
       "<tr>\n",
       "                          <td></td>                             <th>coef</th>     <th>std err</th>      <th>t</th>      <th>P>|t|</th>  <th>[0.025</th>    <th>0.975]</th>  \n",
       "</tr>\n",
       "<tr>\n",
       "  <th>Intercept</th>                                         <td>    2.8016</td> <td>    0.481</td> <td>    5.822</td> <td> 0.000</td> <td>    1.858</td> <td>    3.745</td>\n",
       "</tr>\n",
       "<tr>\n",
       "  <th>Borrower_Credit_Score_at_Origination</th>              <td>    0.0160</td> <td>    0.001</td> <td>   11.930</td> <td> 0.000</td> <td>    0.013</td> <td>    0.019</td>\n",
       "</tr>\n",
       "<tr>\n",
       "  <th>np.power(Borrower_Credit_Score_at_Origination, 2)</th> <td>-1.704e-05</td> <td>  9.3e-07</td> <td>  -18.329</td> <td> 0.000</td> <td>-1.89e-05</td> <td>-1.52e-05</td>\n",
       "</tr>\n",
       "</table>\n",
       "<table class=\"simpletable\">\n",
       "<tr>\n",
       "  <th>Omnibus:</th>       <td>2433.505</td> <th>  Durbin-Watson:     </th> <td>   0.399</td>\n",
       "</tr>\n",
       "<tr>\n",
       "  <th>Prob(Omnibus):</th>  <td> 0.000</td>  <th>  Jarque-Bera (JB):  </th> <td>2428.353</td>\n",
       "</tr>\n",
       "<tr>\n",
       "  <th>Skew:</th>           <td> 0.306</td>  <th>  Prob(JB):          </th> <td>    0.00</td>\n",
       "</tr>\n",
       "<tr>\n",
       "  <th>Kurtosis:</th>       <td> 2.759</td>  <th>  Cond. No.          </th> <td>8.21e+07</td>\n",
       "</tr>\n",
       "</table><br/><br/>Notes:<br/>[1] Standard Errors assume that the covariance matrix of the errors is correctly specified.<br/>[2] The condition number is large, 8.21e+07. This might indicate that there are<br/>strong multicollinearity or other numerical problems."
      ],
      "text/latex": [
       "\\begin{center}\n",
       "\\begin{tabular}{lclc}\n",
       "\\toprule\n",
       "\\textbf{Dep. Variable:}                                        & Original\\_Interest\\_Rate & \\textbf{  R-squared:         } &      0.128   \\\\\n",
       "\\textbf{Model:}                                                &           OLS            & \\textbf{  Adj. R-squared:    } &      0.128   \\\\\n",
       "\\textbf{Method:}                                               &      Least Squares       & \\textbf{  F-statistic:       } &      9880.   \\\\\n",
       "\\textbf{Date:}                                                 &     Thu, 20 Mar 2025     & \\textbf{  Prob (F-statistic):} &      0.00    \\\\\n",
       "\\textbf{Time:}                                                 &         13:01:07         & \\textbf{  Log-Likelihood:    } & -2.1558e+05  \\\\\n",
       "\\textbf{No. Observations:}                                     &          134481          & \\textbf{  AIC:               } &  4.312e+05   \\\\\n",
       "\\textbf{Df Residuals:}                                         &          134478          & \\textbf{  BIC:               } &  4.312e+05   \\\\\n",
       "\\textbf{Df Model:}                                             &               2          & \\textbf{                     } &              \\\\\n",
       "\\textbf{Covariance Type:}                                      &        nonrobust         & \\textbf{                     } &              \\\\\n",
       "\\bottomrule\n",
       "\\end{tabular}\n",
       "\\begin{tabular}{lcccccc}\n",
       "                                                               & \\textbf{coef} & \\textbf{std err} & \\textbf{t} & \\textbf{P$> |$t$|$} & \\textbf{[0.025} & \\textbf{0.975]}  \\\\\n",
       "\\midrule\n",
       "\\textbf{Intercept}                                             &       2.8016  &        0.481     &     5.822  &         0.000        &        1.858    &        3.745     \\\\\n",
       "\\textbf{Borrower\\_Credit\\_Score\\_at\\_Origination}              &       0.0160  &        0.001     &    11.930  &         0.000        &        0.013    &        0.019     \\\\\n",
       "\\textbf{np.power(Borrower\\_Credit\\_Score\\_at\\_Origination, 2)} &   -1.704e-05  &      9.3e-07     &   -18.329  &         0.000        &    -1.89e-05    &    -1.52e-05     \\\\\n",
       "\\bottomrule\n",
       "\\end{tabular}\n",
       "\\begin{tabular}{lclc}\n",
       "\\textbf{Omnibus:}       & 2433.505 & \\textbf{  Durbin-Watson:     } &    0.399  \\\\\n",
       "\\textbf{Prob(Omnibus):} &   0.000  & \\textbf{  Jarque-Bera (JB):  } & 2428.353  \\\\\n",
       "\\textbf{Skew:}          &   0.306  & \\textbf{  Prob(JB):          } &     0.00  \\\\\n",
       "\\textbf{Kurtosis:}      &   2.759  & \\textbf{  Cond. No.          } & 8.21e+07  \\\\\n",
       "\\bottomrule\n",
       "\\end{tabular}\n",
       "%\\caption{OLS Regression Results}\n",
       "\\end{center}\n",
       "\n",
       "Notes: \\newline\n",
       " [1] Standard Errors assume that the covariance matrix of the errors is correctly specified. \\newline\n",
       " [2] The condition number is large, 8.21e+07. This might indicate that there are \\newline\n",
       " strong multicollinearity or other numerical problems."
      ],
      "text/plain": [
       "<class 'statsmodels.iolib.summary.Summary'>\n",
       "\"\"\"\n",
       "                              OLS Regression Results                              \n",
       "==================================================================================\n",
       "Dep. Variable:     Original_Interest_Rate   R-squared:                       0.128\n",
       "Model:                                OLS   Adj. R-squared:                  0.128\n",
       "Method:                     Least Squares   F-statistic:                     9880.\n",
       "Date:                    Thu, 20 Mar 2025   Prob (F-statistic):               0.00\n",
       "Time:                            13:01:07   Log-Likelihood:            -2.1558e+05\n",
       "No. Observations:                  134481   AIC:                         4.312e+05\n",
       "Df Residuals:                      134478   BIC:                         4.312e+05\n",
       "Df Model:                               2                                         \n",
       "Covariance Type:                nonrobust                                         \n",
       "=====================================================================================================================\n",
       "                                                        coef    std err          t      P>|t|      [0.025      0.975]\n",
       "---------------------------------------------------------------------------------------------------------------------\n",
       "Intercept                                             2.8016      0.481      5.822      0.000       1.858       3.745\n",
       "Borrower_Credit_Score_at_Origination                  0.0160      0.001     11.930      0.000       0.013       0.019\n",
       "np.power(Borrower_Credit_Score_at_Origination, 2) -1.704e-05    9.3e-07    -18.329      0.000   -1.89e-05   -1.52e-05\n",
       "==============================================================================\n",
       "Omnibus:                     2433.505   Durbin-Watson:                   0.399\n",
       "Prob(Omnibus):                  0.000   Jarque-Bera (JB):             2428.353\n",
       "Skew:                           0.306   Prob(JB):                         0.00\n",
       "Kurtosis:                       2.759   Cond. No.                     8.21e+07\n",
       "==============================================================================\n",
       "\n",
       "Notes:\n",
       "[1] Standard Errors assume that the covariance matrix of the errors is correctly specified.\n",
       "[2] The condition number is large, 8.21e+07. This might indicate that there are\n",
       "strong multicollinearity or other numerical problems.\n",
       "\"\"\""
      ]
     },
     "execution_count": 30,
     "metadata": {},
     "output_type": "execute_result"
    }
   ],
   "source": [
    "#  A - powers - use np.power() to raise a variable to a power\n",
    "sm_ols('Original_Interest_Rate ~ Borrower_Credit_Score_at_Origination + np.power(Borrower_Credit_Score_at_Origination,2)', data=fannie_mae).fit().summary()\n",
    "\n",
    "# sm_ols('Original_Interest_Rate ~ Borrower_Credit_Score_at_Origination + Borrower_Credit_Score_at_Origination**2', data=fannie_mae).fit().summary()"
   ]
  },
  {
   "cell_type": "code",
   "execution_count": 33,
   "metadata": {},
   "outputs": [
    {
     "data": {
      "text/html": [
       "<table class=\"simpletable\">\n",
       "<caption>OLS Regression Results</caption>\n",
       "<tr>\n",
       "  <th>Dep. Variable:</th>    <td>Original_Interest_Rate</td> <th>  R-squared:         </th>  <td>   0.127</td>  \n",
       "</tr>\n",
       "<tr>\n",
       "  <th>Model:</th>                      <td>OLS</td>          <th>  Adj. R-squared:    </th>  <td>   0.127</td>  \n",
       "</tr>\n",
       "<tr>\n",
       "  <th>Method:</th>                <td>Least Squares</td>     <th>  F-statistic:       </th>  <td>   6521.</td>  \n",
       "</tr>\n",
       "<tr>\n",
       "  <th>Date:</th>                <td>Thu, 20 Mar 2025</td>    <th>  Prob (F-statistic):</th>   <td>  0.00</td>   \n",
       "</tr>\n",
       "<tr>\n",
       "  <th>Time:</th>                    <td>13:03:12</td>        <th>  Log-Likelihood:    </th> <td>-2.1567e+05</td>\n",
       "</tr>\n",
       "<tr>\n",
       "  <th>No. Observations:</th>         <td>134481</td>         <th>  AIC:               </th>  <td>4.313e+05</td> \n",
       "</tr>\n",
       "<tr>\n",
       "  <th>Df Residuals:</th>             <td>134477</td>         <th>  BIC:               </th>  <td>4.314e+05</td> \n",
       "</tr>\n",
       "<tr>\n",
       "  <th>Df Model:</th>                 <td>     3</td>         <th>                     </th>      <td> </td>     \n",
       "</tr>\n",
       "<tr>\n",
       "  <th>Covariance Type:</th>         <td>nonrobust</td>       <th>                     </th>      <td> </td>     \n",
       "</tr>\n",
       "</table>\n",
       "<table class=\"simpletable\">\n",
       "<tr>\n",
       "          <td></td>             <th>coef</th>     <th>std err</th>      <th>t</th>      <th>P>|t|</th>  <th>[0.025</th>    <th>0.975]</th>  \n",
       "</tr>\n",
       "<tr>\n",
       "  <th>Intercept</th>         <td>  -16.8119</td> <td>    4.111</td> <td>   -4.090</td> <td> 0.000</td> <td>  -24.869</td> <td>   -8.755</td>\n",
       "</tr>\n",
       "<tr>\n",
       "  <th>l_credscore</th>       <td>    3.2155</td> <td>    0.621</td> <td>    5.182</td> <td> 0.000</td> <td>    1.999</td> <td>    4.432</td>\n",
       "</tr>\n",
       "<tr>\n",
       "  <th>l_LTV</th>             <td>   14.6120</td> <td>    0.973</td> <td>   15.024</td> <td> 0.000</td> <td>   12.706</td> <td>   16.518</td>\n",
       "</tr>\n",
       "<tr>\n",
       "  <th>l_credscore:l_LTV</th> <td>   -2.1830</td> <td>    0.147</td> <td>  -14.866</td> <td> 0.000</td> <td>   -2.471</td> <td>   -1.895</td>\n",
       "</tr>\n",
       "</table>\n",
       "<table class=\"simpletable\">\n",
       "<tr>\n",
       "  <th>Omnibus:</th>       <td>2756.628</td> <th>  Durbin-Watson:     </th> <td>   0.389</td>\n",
       "</tr>\n",
       "<tr>\n",
       "  <th>Prob(Omnibus):</th>  <td> 0.000</td>  <th>  Jarque-Bera (JB):  </th> <td>2719.875</td>\n",
       "</tr>\n",
       "<tr>\n",
       "  <th>Skew:</th>           <td> 0.321</td>  <th>  Prob(JB):          </th> <td>    0.00</td>\n",
       "</tr>\n",
       "<tr>\n",
       "  <th>Kurtosis:</th>       <td> 2.727</td>  <th>  Cond. No.          </th> <td>3.77e+04</td>\n",
       "</tr>\n",
       "</table><br/><br/>Notes:<br/>[1] Standard Errors assume that the covariance matrix of the errors is correctly specified.<br/>[2] The condition number is large, 3.77e+04. This might indicate that there are<br/>strong multicollinearity or other numerical problems."
      ],
      "text/latex": [
       "\\begin{center}\n",
       "\\begin{tabular}{lclc}\n",
       "\\toprule\n",
       "\\textbf{Dep. Variable:}      & Original\\_Interest\\_Rate & \\textbf{  R-squared:         } &      0.127   \\\\\n",
       "\\textbf{Model:}              &           OLS            & \\textbf{  Adj. R-squared:    } &      0.127   \\\\\n",
       "\\textbf{Method:}             &      Least Squares       & \\textbf{  F-statistic:       } &      6521.   \\\\\n",
       "\\textbf{Date:}               &     Thu, 20 Mar 2025     & \\textbf{  Prob (F-statistic):} &      0.00    \\\\\n",
       "\\textbf{Time:}               &         13:03:12         & \\textbf{  Log-Likelihood:    } & -2.1567e+05  \\\\\n",
       "\\textbf{No. Observations:}   &          134481          & \\textbf{  AIC:               } &  4.313e+05   \\\\\n",
       "\\textbf{Df Residuals:}       &          134477          & \\textbf{  BIC:               } &  4.314e+05   \\\\\n",
       "\\textbf{Df Model:}           &               3          & \\textbf{                     } &              \\\\\n",
       "\\textbf{Covariance Type:}    &        nonrobust         & \\textbf{                     } &              \\\\\n",
       "\\bottomrule\n",
       "\\end{tabular}\n",
       "\\begin{tabular}{lcccccc}\n",
       "                             & \\textbf{coef} & \\textbf{std err} & \\textbf{t} & \\textbf{P$> |$t$|$} & \\textbf{[0.025} & \\textbf{0.975]}  \\\\\n",
       "\\midrule\n",
       "\\textbf{Intercept}           &     -16.8119  &        4.111     &    -4.090  &         0.000        &      -24.869    &       -8.755     \\\\\n",
       "\\textbf{l\\_credscore}        &       3.2155  &        0.621     &     5.182  &         0.000        &        1.999    &        4.432     \\\\\n",
       "\\textbf{l\\_LTV}              &      14.6120  &        0.973     &    15.024  &         0.000        &       12.706    &       16.518     \\\\\n",
       "\\textbf{l\\_credscore:l\\_LTV} &      -2.1830  &        0.147     &   -14.866  &         0.000        &       -2.471    &       -1.895     \\\\\n",
       "\\bottomrule\n",
       "\\end{tabular}\n",
       "\\begin{tabular}{lclc}\n",
       "\\textbf{Omnibus:}       & 2756.628 & \\textbf{  Durbin-Watson:     } &    0.389  \\\\\n",
       "\\textbf{Prob(Omnibus):} &   0.000  & \\textbf{  Jarque-Bera (JB):  } & 2719.875  \\\\\n",
       "\\textbf{Skew:}          &   0.321  & \\textbf{  Prob(JB):          } &     0.00  \\\\\n",
       "\\textbf{Kurtosis:}      &   2.727  & \\textbf{  Cond. No.          } & 3.77e+04  \\\\\n",
       "\\bottomrule\n",
       "\\end{tabular}\n",
       "%\\caption{OLS Regression Results}\n",
       "\\end{center}\n",
       "\n",
       "Notes: \\newline\n",
       " [1] Standard Errors assume that the covariance matrix of the errors is correctly specified. \\newline\n",
       " [2] The condition number is large, 3.77e+04. This might indicate that there are \\newline\n",
       " strong multicollinearity or other numerical problems."
      ],
      "text/plain": [
       "<class 'statsmodels.iolib.summary.Summary'>\n",
       "\"\"\"\n",
       "                              OLS Regression Results                              \n",
       "==================================================================================\n",
       "Dep. Variable:     Original_Interest_Rate   R-squared:                       0.127\n",
       "Model:                                OLS   Adj. R-squared:                  0.127\n",
       "Method:                     Least Squares   F-statistic:                     6521.\n",
       "Date:                    Thu, 20 Mar 2025   Prob (F-statistic):               0.00\n",
       "Time:                            13:03:12   Log-Likelihood:            -2.1567e+05\n",
       "No. Observations:                  134481   AIC:                         4.313e+05\n",
       "Df Residuals:                      134477   BIC:                         4.314e+05\n",
       "Df Model:                               3                                         \n",
       "Covariance Type:                nonrobust                                         \n",
       "=====================================================================================\n",
       "                        coef    std err          t      P>|t|      [0.025      0.975]\n",
       "-------------------------------------------------------------------------------------\n",
       "Intercept           -16.8119      4.111     -4.090      0.000     -24.869      -8.755\n",
       "l_credscore           3.2155      0.621      5.182      0.000       1.999       4.432\n",
       "l_LTV                14.6120      0.973     15.024      0.000      12.706      16.518\n",
       "l_credscore:l_LTV    -2.1830      0.147    -14.866      0.000      -2.471      -1.895\n",
       "==============================================================================\n",
       "Omnibus:                     2756.628   Durbin-Watson:                   0.389\n",
       "Prob(Omnibus):                  0.000   Jarque-Bera (JB):             2719.875\n",
       "Skew:                           0.321   Prob(JB):                         0.00\n",
       "Kurtosis:                       2.727   Cond. No.                     3.77e+04\n",
       "==============================================================================\n",
       "\n",
       "Notes:\n",
       "[1] Standard Errors assume that the covariance matrix of the errors is correctly specified.\n",
       "[2] The condition number is large, 3.77e+04. This might indicate that there are\n",
       "strong multicollinearity or other numerical problems.\n",
       "\"\"\""
      ]
     },
     "execution_count": 33,
     "metadata": {},
     "output_type": "execute_result"
    }
   ],
   "source": [
    "# B  - interactions in a formula: x*z --> x+z+x*z \n",
    "\n",
    "sm_ols('Original_Interest_Rate ~ l_credscore * l_LTV', data=fannie_mae).fit().summary()"
   ]
  },
  {
   "cell_type": "markdown",
   "metadata": {},
   "source": [
    "### Q4: Dummy and categorical variables\n",
    "\n",
    "A. Regress y on the dummy variable for a great credit score.\n",
    "\n",
    "B. Regress y on the categorical variable we created for credit bins.\n",
    "\n",
    "C. (Advanced, optional, after class exercise): High dimensional fixed effects. This basically means \"a categorical variable with LOTS of values\". [See this discussion.](https://aeturrell.github.io/coding-for-economists/econmt-regression.html#high-dimensional-fixed-effects-aka-absorbing-regression)"
   ]
  },
  {
   "cell_type": "code",
   "execution_count": null,
   "metadata": {},
   "outputs": [
    {
     "data": {
      "text/html": [
       "<table class=\"simpletable\">\n",
       "<caption>OLS Regression Results</caption>\n",
       "<tr>\n",
       "  <th>Dep. Variable:</th>    <td>Original_Interest_Rate</td> <th>  R-squared:         </th>  <td>   0.050</td>  \n",
       "</tr>\n",
       "<tr>\n",
       "  <th>Model:</th>                      <td>OLS</td>          <th>  Adj. R-squared:    </th>  <td>   0.050</td>  \n",
       "</tr>\n",
       "<tr>\n",
       "  <th>Method:</th>                <td>Least Squares</td>     <th>  F-statistic:       </th>  <td>   7048.</td>  \n",
       "</tr>\n",
       "<tr>\n",
       "  <th>Date:</th>                <td>Thu, 20 Mar 2025</td>    <th>  Prob (F-statistic):</th>   <td>  0.00</td>   \n",
       "</tr>\n",
       "<tr>\n",
       "  <th>Time:</th>                    <td>13:03:55</td>        <th>  Log-Likelihood:    </th> <td>-2.2255e+05</td>\n",
       "</tr>\n",
       "<tr>\n",
       "  <th>No. Observations:</th>         <td>135038</td>         <th>  AIC:               </th>  <td>4.451e+05</td> \n",
       "</tr>\n",
       "<tr>\n",
       "  <th>Df Residuals:</th>             <td>135036</td>         <th>  BIC:               </th>  <td>4.451e+05</td> \n",
       "</tr>\n",
       "<tr>\n",
       "  <th>Df Model:</th>                 <td>     1</td>         <th>                     </th>      <td> </td>     \n",
       "</tr>\n",
       "<tr>\n",
       "  <th>Covariance Type:</th>         <td>nonrobust</td>       <th>                     </th>      <td> </td>     \n",
       "</tr>\n",
       "</table>\n",
       "<table class=\"simpletable\">\n",
       "<tr>\n",
       "        <td></td>           <th>coef</th>     <th>std err</th>      <th>t</th>      <th>P>|t|</th>  <th>[0.025</th>    <th>0.975]</th>  \n",
       "</tr>\n",
       "<tr>\n",
       "  <th>Intercept</th>     <td>    5.3433</td> <td>    0.004</td> <td> 1466.712</td> <td> 0.000</td> <td>    5.336</td> <td>    5.350</td>\n",
       "</tr>\n",
       "<tr>\n",
       "  <th>great[T.True]</th> <td>   -0.8916</td> <td>    0.011</td> <td>  -83.951</td> <td> 0.000</td> <td>   -0.912</td> <td>   -0.871</td>\n",
       "</tr>\n",
       "</table>\n",
       "<table class=\"simpletable\">\n",
       "<tr>\n",
       "  <th>Omnibus:</th>       <td>2948.608</td> <th>  Durbin-Watson:     </th> <td>   0.305</td>\n",
       "</tr>\n",
       "<tr>\n",
       "  <th>Prob(Omnibus):</th>  <td> 0.000</td>  <th>  Jarque-Bera (JB):  </th> <td>2309.413</td>\n",
       "</tr>\n",
       "<tr>\n",
       "  <th>Skew:</th>           <td> 0.239</td>  <th>  Prob(JB):          </th> <td>    0.00</td>\n",
       "</tr>\n",
       "<tr>\n",
       "  <th>Kurtosis:</th>       <td> 2.572</td>  <th>  Cond. No.          </th> <td>    3.15</td>\n",
       "</tr>\n",
       "</table><br/><br/>Notes:<br/>[1] Standard Errors assume that the covariance matrix of the errors is correctly specified."
      ],
      "text/latex": [
       "\\begin{center}\n",
       "\\begin{tabular}{lclc}\n",
       "\\toprule\n",
       "\\textbf{Dep. Variable:}    & Original\\_Interest\\_Rate & \\textbf{  R-squared:         } &      0.050   \\\\\n",
       "\\textbf{Model:}            &           OLS            & \\textbf{  Adj. R-squared:    } &      0.050   \\\\\n",
       "\\textbf{Method:}           &      Least Squares       & \\textbf{  F-statistic:       } &      7048.   \\\\\n",
       "\\textbf{Date:}             &     Thu, 20 Mar 2025     & \\textbf{  Prob (F-statistic):} &      0.00    \\\\\n",
       "\\textbf{Time:}             &         13:03:55         & \\textbf{  Log-Likelihood:    } & -2.2255e+05  \\\\\n",
       "\\textbf{No. Observations:} &          135038          & \\textbf{  AIC:               } &  4.451e+05   \\\\\n",
       "\\textbf{Df Residuals:}     &          135036          & \\textbf{  BIC:               } &  4.451e+05   \\\\\n",
       "\\textbf{Df Model:}         &               1          & \\textbf{                     } &              \\\\\n",
       "\\textbf{Covariance Type:}  &        nonrobust         & \\textbf{                     } &              \\\\\n",
       "\\bottomrule\n",
       "\\end{tabular}\n",
       "\\begin{tabular}{lcccccc}\n",
       "                       & \\textbf{coef} & \\textbf{std err} & \\textbf{t} & \\textbf{P$> |$t$|$} & \\textbf{[0.025} & \\textbf{0.975]}  \\\\\n",
       "\\midrule\n",
       "\\textbf{Intercept}     &       5.3433  &        0.004     &  1466.712  &         0.000        &        5.336    &        5.350     \\\\\n",
       "\\textbf{great[T.True]} &      -0.8916  &        0.011     &   -83.951  &         0.000        &       -0.912    &       -0.871     \\\\\n",
       "\\bottomrule\n",
       "\\end{tabular}\n",
       "\\begin{tabular}{lclc}\n",
       "\\textbf{Omnibus:}       & 2948.608 & \\textbf{  Durbin-Watson:     } &    0.305  \\\\\n",
       "\\textbf{Prob(Omnibus):} &   0.000  & \\textbf{  Jarque-Bera (JB):  } & 2309.413  \\\\\n",
       "\\textbf{Skew:}          &   0.239  & \\textbf{  Prob(JB):          } &     0.00  \\\\\n",
       "\\textbf{Kurtosis:}      &   2.572  & \\textbf{  Cond. No.          } &     3.15  \\\\\n",
       "\\bottomrule\n",
       "\\end{tabular}\n",
       "%\\caption{OLS Regression Results}\n",
       "\\end{center}\n",
       "\n",
       "Notes: \\newline\n",
       " [1] Standard Errors assume that the covariance matrix of the errors is correctly specified."
      ],
      "text/plain": [
       "<class 'statsmodels.iolib.summary.Summary'>\n",
       "\"\"\"\n",
       "                              OLS Regression Results                              \n",
       "==================================================================================\n",
       "Dep. Variable:     Original_Interest_Rate   R-squared:                       0.050\n",
       "Model:                                OLS   Adj. R-squared:                  0.050\n",
       "Method:                     Least Squares   F-statistic:                     7048.\n",
       "Date:                    Thu, 20 Mar 2025   Prob (F-statistic):               0.00\n",
       "Time:                            13:03:55   Log-Likelihood:            -2.2255e+05\n",
       "No. Observations:                  135038   AIC:                         4.451e+05\n",
       "Df Residuals:                      135036   BIC:                         4.451e+05\n",
       "Df Model:                               1                                         \n",
       "Covariance Type:                nonrobust                                         \n",
       "=================================================================================\n",
       "                    coef    std err          t      P>|t|      [0.025      0.975]\n",
       "---------------------------------------------------------------------------------\n",
       "Intercept         5.3433      0.004   1466.712      0.000       5.336       5.350\n",
       "great[T.True]    -0.8916      0.011    -83.951      0.000      -0.912      -0.871\n",
       "==============================================================================\n",
       "Omnibus:                     2948.608   Durbin-Watson:                   0.305\n",
       "Prob(Omnibus):                  0.000   Jarque-Bera (JB):             2309.413\n",
       "Skew:                           0.239   Prob(JB):                         0.00\n",
       "Kurtosis:                       2.572   Cond. No.                         3.15\n",
       "==============================================================================\n",
       "\n",
       "Notes:\n",
       "[1] Standard Errors assume that the covariance matrix of the errors is correctly specified.\n",
       "\"\"\""
      ]
     },
     "execution_count": 34,
     "metadata": {},
     "output_type": "execute_result"
    }
   ],
   "source": [
    "# A - you can just include \"dummy\" variables like anything else, and statsmodels will treat them as such\n",
    "# dummy means = 0/1 binary variables\n",
    "\n",
    "sm_ols('Original_Interest_Rate ~ great', data=fannie_mae).fit().summary()"
   ]
  },
  {
   "cell_type": "code",
   "execution_count": null,
   "metadata": {},
   "outputs": [
    {
     "data": {
      "text/html": [
       "<table class=\"simpletable\">\n",
       "<caption>OLS Regression Results</caption>\n",
       "<tr>\n",
       "  <th>Dep. Variable:</th>    <td>Original_Interest_Rate</td> <th>  R-squared:         </th>  <td>   0.116</td>  \n",
       "</tr>\n",
       "<tr>\n",
       "  <th>Model:</th>                      <td>OLS</td>          <th>  Adj. R-squared:    </th>  <td>   0.116</td>  \n",
       "</tr>\n",
       "<tr>\n",
       "  <th>Method:</th>                <td>Least Squares</td>     <th>  F-statistic:       </th>  <td>   4411.</td>  \n",
       "</tr>\n",
       "<tr>\n",
       "  <th>Date:</th>                <td>Thu, 20 Mar 2025</td>    <th>  Prob (F-statistic):</th>   <td>  0.00</td>   \n",
       "</tr>\n",
       "<tr>\n",
       "  <th>Time:</th>                    <td>13:07:09</td>        <th>  Log-Likelihood:    </th> <td>-2.1651e+05</td>\n",
       "</tr>\n",
       "<tr>\n",
       "  <th>No. Observations:</th>         <td>134481</td>         <th>  AIC:               </th>  <td>4.330e+05</td> \n",
       "</tr>\n",
       "<tr>\n",
       "  <th>Df Residuals:</th>             <td>134476</td>         <th>  BIC:               </th>  <td>4.331e+05</td> \n",
       "</tr>\n",
       "<tr>\n",
       "  <th>Df Model:</th>                 <td>     4</td>         <th>                     </th>      <td> </td>     \n",
       "</tr>\n",
       "<tr>\n",
       "  <th>Covariance Type:</th>         <td>nonrobust</td>       <th>                     </th>      <td> </td>     \n",
       "</tr>\n",
       "</table>\n",
       "<table class=\"simpletable\">\n",
       "<tr>\n",
       "                <td></td>                  <th>coef</th>     <th>std err</th>      <th>t</th>      <th>P>|t|</th>  <th>[0.025</th>    <th>0.975]</th>  \n",
       "</tr>\n",
       "<tr>\n",
       "  <th>Intercept</th>                    <td>    6.7172</td> <td>    0.048</td> <td>  140.160</td> <td> 0.000</td> <td>    6.623</td> <td>    6.811</td>\n",
       "</tr>\n",
       "<tr>\n",
       "  <th>C(creditbins)[T.Fair]</th>        <td>   -0.6749</td> <td>    0.049</td> <td>  -13.784</td> <td> 0.000</td> <td>   -0.771</td> <td>   -0.579</td>\n",
       "</tr>\n",
       "<tr>\n",
       "  <th>C(creditbins)[T.Good]</th>        <td>   -1.2020</td> <td>    0.048</td> <td>  -24.881</td> <td> 0.000</td> <td>   -1.297</td> <td>   -1.107</td>\n",
       "</tr>\n",
       "<tr>\n",
       "  <th>C(creditbins)[T.Very Good]</th>   <td>   -1.6642</td> <td>    0.048</td> <td>  -34.552</td> <td> 0.000</td> <td>   -1.759</td> <td>   -1.570</td>\n",
       "</tr>\n",
       "<tr>\n",
       "  <th>C(creditbins)[T.Exceptional]</th> <td>   -2.2655</td> <td>    0.049</td> <td>  -46.351</td> <td> 0.000</td> <td>   -2.361</td> <td>   -2.170</td>\n",
       "</tr>\n",
       "</table>\n",
       "<table class=\"simpletable\">\n",
       "<tr>\n",
       "  <th>Omnibus:</th>       <td>2410.734</td> <th>  Durbin-Watson:     </th> <td>   0.385</td>\n",
       "</tr>\n",
       "<tr>\n",
       "  <th>Prob(Omnibus):</th>  <td> 0.000</td>  <th>  Jarque-Bera (JB):  </th> <td>2345.942</td>\n",
       "</tr>\n",
       "<tr>\n",
       "  <th>Skew:</th>           <td> 0.294</td>  <th>  Prob(JB):          </th> <td>    0.00</td>\n",
       "</tr>\n",
       "<tr>\n",
       "  <th>Kurtosis:</th>       <td> 2.729</td>  <th>  Cond. No.          </th> <td>    37.9</td>\n",
       "</tr>\n",
       "</table><br/><br/>Notes:<br/>[1] Standard Errors assume that the covariance matrix of the errors is correctly specified."
      ],
      "text/latex": [
       "\\begin{center}\n",
       "\\begin{tabular}{lclc}\n",
       "\\toprule\n",
       "\\textbf{Dep. Variable:}               & Original\\_Interest\\_Rate & \\textbf{  R-squared:         } &      0.116   \\\\\n",
       "\\textbf{Model:}                       &           OLS            & \\textbf{  Adj. R-squared:    } &      0.116   \\\\\n",
       "\\textbf{Method:}                      &      Least Squares       & \\textbf{  F-statistic:       } &      4411.   \\\\\n",
       "\\textbf{Date:}                        &     Thu, 20 Mar 2025     & \\textbf{  Prob (F-statistic):} &      0.00    \\\\\n",
       "\\textbf{Time:}                        &         13:07:09         & \\textbf{  Log-Likelihood:    } & -2.1651e+05  \\\\\n",
       "\\textbf{No. Observations:}            &          134481          & \\textbf{  AIC:               } &  4.330e+05   \\\\\n",
       "\\textbf{Df Residuals:}                &          134476          & \\textbf{  BIC:               } &  4.331e+05   \\\\\n",
       "\\textbf{Df Model:}                    &               4          & \\textbf{                     } &              \\\\\n",
       "\\textbf{Covariance Type:}             &        nonrobust         & \\textbf{                     } &              \\\\\n",
       "\\bottomrule\n",
       "\\end{tabular}\n",
       "\\begin{tabular}{lcccccc}\n",
       "                                      & \\textbf{coef} & \\textbf{std err} & \\textbf{t} & \\textbf{P$> |$t$|$} & \\textbf{[0.025} & \\textbf{0.975]}  \\\\\n",
       "\\midrule\n",
       "\\textbf{Intercept}                    &       6.7172  &        0.048     &   140.160  &         0.000        &        6.623    &        6.811     \\\\\n",
       "\\textbf{C(creditbins)[T.Fair]}        &      -0.6749  &        0.049     &   -13.784  &         0.000        &       -0.771    &       -0.579     \\\\\n",
       "\\textbf{C(creditbins)[T.Good]}        &      -1.2020  &        0.048     &   -24.881  &         0.000        &       -1.297    &       -1.107     \\\\\n",
       "\\textbf{C(creditbins)[T.Very Good]}   &      -1.6642  &        0.048     &   -34.552  &         0.000        &       -1.759    &       -1.570     \\\\\n",
       "\\textbf{C(creditbins)[T.Exceptional]} &      -2.2655  &        0.049     &   -46.351  &         0.000        &       -2.361    &       -2.170     \\\\\n",
       "\\bottomrule\n",
       "\\end{tabular}\n",
       "\\begin{tabular}{lclc}\n",
       "\\textbf{Omnibus:}       & 2410.734 & \\textbf{  Durbin-Watson:     } &    0.385  \\\\\n",
       "\\textbf{Prob(Omnibus):} &   0.000  & \\textbf{  Jarque-Bera (JB):  } & 2345.942  \\\\\n",
       "\\textbf{Skew:}          &   0.294  & \\textbf{  Prob(JB):          } &     0.00  \\\\\n",
       "\\textbf{Kurtosis:}      &   2.729  & \\textbf{  Cond. No.          } &     37.9  \\\\\n",
       "\\bottomrule\n",
       "\\end{tabular}\n",
       "%\\caption{OLS Regression Results}\n",
       "\\end{center}\n",
       "\n",
       "Notes: \\newline\n",
       " [1] Standard Errors assume that the covariance matrix of the errors is correctly specified."
      ],
      "text/plain": [
       "<class 'statsmodels.iolib.summary.Summary'>\n",
       "\"\"\"\n",
       "                              OLS Regression Results                              \n",
       "==================================================================================\n",
       "Dep. Variable:     Original_Interest_Rate   R-squared:                       0.116\n",
       "Model:                                OLS   Adj. R-squared:                  0.116\n",
       "Method:                     Least Squares   F-statistic:                     4411.\n",
       "Date:                    Thu, 20 Mar 2025   Prob (F-statistic):               0.00\n",
       "Time:                            13:07:09   Log-Likelihood:            -2.1651e+05\n",
       "No. Observations:                  134481   AIC:                         4.330e+05\n",
       "Df Residuals:                      134476   BIC:                         4.331e+05\n",
       "Df Model:                               4                                         \n",
       "Covariance Type:                nonrobust                                         \n",
       "================================================================================================\n",
       "                                   coef    std err          t      P>|t|      [0.025      0.975]\n",
       "------------------------------------------------------------------------------------------------\n",
       "Intercept                        6.7172      0.048    140.160      0.000       6.623       6.811\n",
       "C(creditbins)[T.Fair]           -0.6749      0.049    -13.784      0.000      -0.771      -0.579\n",
       "C(creditbins)[T.Good]           -1.2020      0.048    -24.881      0.000      -1.297      -1.107\n",
       "C(creditbins)[T.Very Good]      -1.6642      0.048    -34.552      0.000      -1.759      -1.570\n",
       "C(creditbins)[T.Exceptional]    -2.2655      0.049    -46.351      0.000      -2.361      -2.170\n",
       "==============================================================================\n",
       "Omnibus:                     2410.734   Durbin-Watson:                   0.385\n",
       "Prob(Omnibus):                  0.000   Jarque-Bera (JB):             2345.942\n",
       "Skew:                           0.294   Prob(JB):                         0.00\n",
       "Kurtosis:                       2.729   Cond. No.                         37.9\n",
       "==============================================================================\n",
       "\n",
       "Notes:\n",
       "[1] Standard Errors assume that the covariance matrix of the errors is correctly specified.\n",
       "\"\"\""
      ]
     },
     "execution_count": 36,
     "metadata": {},
     "output_type": "execute_result"
    }
   ],
   "source": [
    "# B - credit bins\n",
    "# Categorical variables are those that have a fixed number of values\n",
    "# If the variable is defined as a category when you include it, statsmodels splits it up into dummy variables for you\n",
    "\n",
    "sm_ols('Original_Interest_Rate ~ creditbins', data=fannie_mae).fit().summary()\n",
    "\n",
    "# you can explcitly make any variable a dummy variable by using the C() function\n",
    "# like gsector - its not a continuous variable, if you put it in a reg though, it will be treated as such, you'll get a line\n",
    "# but if you put it in C(gsector) - it will be treated as a dummy variable and you'll get different intercepts for each sector\n",
    "sm_ols('Original_Interest_Rate ~ C(creditbins)', data=fannie_mae).fit().summary()"
   ]
  },
  {
   "cell_type": "markdown",
   "metadata": {},
   "source": [
    "### Q5: Summarize what you've learned so far\n"
   ]
  },
  {
   "cell_type": "code",
   "execution_count": null,
   "metadata": {},
   "outputs": [],
   "source": []
  },
  {
   "cell_type": "markdown",
   "metadata": {},
   "source": [
    "### Q6: Plot the regression\n",
    "\n",
    "_If time is tight: I'll do it._\n",
    "\n",
    "Plot 1:\n",
    "- Plot a scatterplot: Plot as X the credit score variable. As Y, use our y.\n",
    "- On top of that, lineplots:\n",
    "    - Rerun Q1a's reg and plot the yhat values. \n",
    "    - Let's talk about this.\n",
    "    - Rerun Q1b's reg and plot the yhat values.\n",
    "    - Compare to the prior line.\n",
    "    \n",
    "Plot 2:\n",
    "- Plot a scatterplot: Plot as X the credit score variable. As Y, use our y.\n",
    "- On top of that, lineplots:\n",
    "    - Rerun Q4b's reg and plot the yhat values, hued by credit bin\n",
    "  \n",
    "Plot 3:\n",
    "- Plot a scatterplot: Plot as X the credit score variable. As Y, use our y.\n",
    "- On top of that, lineplots:\n",
    "    - Rerun Q4b's reg BUT WITH credit score as a variable and plot the yhat values, hued by credit bin  \n",
    "    \n",
    "_Note: statsmodels has some useful plotting functions. My favs are influence_plot (can be slow) and plot_partregress_grid._"
   ]
  },
  {
   "cell_type": "code",
   "execution_count": null,
   "metadata": {},
   "outputs": [
    {
     "data": {
      "text/plain": [
       "<Axes: xlabel='Borrower_Credit_Score_at_Origination', ylabel='Original_Interest_Rate'>"
      ]
     },
     "execution_count": 51,
     "metadata": {},
     "output_type": "execute_result"
    },
    {
     "data": {
      "image/png": "[encoded data removed]",
      "text/plain": [
       "<Figure size 640x480 with 1 Axes>"
      ]
     },
     "metadata": {},
     "output_type": "display_data"
    }
   ],
   "source": [
    "sns.scatterplot(x='Borrower_Credit_Score_at_Origination', \n",
    "                y='Original_Interest_Rate', \n",
    "                # oversaturated points... fix\n",
    "                alpha=0.25,   \n",
    "                # that's not enough, so lets sample the data..\n",
    "                data = fannie_mae.sample(1000)\n",
    "               )\n",
    "\n",
    "# run the reg and store the predicted values\n",
    "yhat_reg1 = sm_ols('Original_Interest_Rate ~ Borrower_Credit_Score_at_Origination', data=fannie_mae).fit().predict()\n",
    "\n",
    "# add that plot to the plot\n",
    "# the trick is that stats models drops missing values, so we need to drop them from the real x variable\n",
    "# so that the x and y vectors are the same length\n",
    "\n",
    "sns.lineplot(x = fannie_mae['Borrower_Credit_Score_at_Origination'].dropna(), y = yhat_reg1, color='red')\n"
   ]
  },
  {
   "cell_type": "markdown",
   "metadata": {},
   "source": [
    "## Regression with SKLEARN\n",
    "\n",
    "I don't like running regressions in `sklearn` usually. The main reason to do so is if you're doing a typical ML task that sklearn excels in (meaning: \"pipelines\", which is a term you'll understand later in the course) or if you know you're going to be using other sklearn models anyways (in which case, you'll already be doing the set up for sklearn).\n",
    "\n",
    "But I want to run at least one regression in SKLEARN for you so you can see how the mechanics are similar, and how they differ. We will cover sklearn more in future classes.\n",
    "\n",
    "Psuedocode for a reg in sklearn is similar. The differences:\n",
    "1. A little more work setting up the data\n",
    "1. `.fit()` gets the data passed to it \n",
    "1. The `results` object is different than statsmodels'\n",
    "\n",
    "```python\n",
    "\n",
    "# 1. import the \"class\" of model form sklearn\n",
    "\n",
    "from sklearn.linear_model import LinearRegression\n",
    "\n",
    "# 2. arrange the data - more work than statsmodels\n",
    "\n",
    "# Issue: sklearn doesn't work with missing values, so drop any obs with missing values\n",
    "# replace vars_in_your_reg with a list of variables you want to use, including y\n",
    "subset = df[vars_in_your_reg].dropna()\n",
    "\n",
    "# explicitly set up the y variable and the X variables you want\n",
    "y = subset['y'] # whatever the y variable is\n",
    "X = subset[['X1','X2']] # list the X vars\n",
    "\n",
    "# 3. set up the model (\"instantiate the model\")\n",
    "# every class of models has \"hyperparamaters\" that control how you want the model to work\n",
    "# below, fit_intercept=True is a \"hyperparameter\" for OLS models \n",
    "# hyperparameters are the things inside the parenthesis of the model class when you declare it\n",
    "\n",
    "model = LinearRegression(fit_intercept=True)\n",
    "result=model.fit(X,y) # in sklearn, you put X and Y inside fit!!!\n",
    "\n",
    "# the result object is different in sklearn\n",
    "# results.intercept_ (the constant in the model)\n",
    "# results.coef_ (the other X vars)\n",
    "\n",
    "```\n"
   ]
  },
  {
   "cell_type": "markdown",
   "metadata": {},
   "source": [
    "## Q7: STUDENT DEMO - regressions **using sklearn**\n",
    "\n",
    "A. Regress the interest rate on the natural log of the loan-to-value using the sklearn method.\n",
    "\n",
    "B. Regress the interest rate on the natural log of the loan-to-value using the sklearn method."
   ]
  },
  {
   "cell_type": "code",
   "execution_count": null,
   "metadata": {},
   "outputs": [
    {
     "name": "stdout",
     "output_type": "stream",
     "text": [
      "Intercept: 3.760340891975931\n",
      "Coefficient for log_Original_LTV: 0.3512853013045058\n"
     ]
    }
   ],
   "source": [
    "# via CharlieS18:\n",
    "\n",
    "# Create the natural log of the LTV column\n",
    "fannie_mae['log_Original_LTV'] = np.log(fannie_mae['Original_LTV_(OLTV)'])\n",
    "\n",
    "# Prepare the data for sklearn\n",
    "X = fannie_mae[['log_Original_LTV']]\n",
    "y = fannie_mae['Original_Interest_Rate']\n",
    "\n",
    "# Fit the model\n",
    "model2 = LinearRegression()\n",
    "model2.fit(X, y)\n",
    "\n",
    "# Print the coefficients\n",
    "print(f\"Intercept: {model2.intercept_}\")\n",
    "print(f\"Coefficient for log_Original_LTV: {model2.coef_[0]}\")"
   ]
  }
 ],
 "metadata": {
  "kernelspec": {
   "display_name": "base",
   "language": "python",
   "name": "python3"
  },
  "language_info": {
   "codemirror_mode": {
    "name": "ipython",
    "version": 3
   },
   "file_extension": ".py",
   "mimetype": "text/x-python",
   "name": "python",
   "nbconvert_exporter": "python",
   "pygments_lexer": "ipython3",
   "version": "3.11.5"
  }
 },
 "nbformat": 4,
 "nbformat_minor": 4
}
