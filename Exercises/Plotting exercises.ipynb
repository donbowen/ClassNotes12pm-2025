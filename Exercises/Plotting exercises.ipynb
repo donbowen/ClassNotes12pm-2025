{
 "cells": [
  {
   "cell_type": "markdown",
   "id": "698f3156-67e4-4082-aa1c-77a60dfe973c",
   "metadata": {},
   "source": [
    "# Plotting\n",
    "\n",
    "We will plot with 3 datasets this week. Let's load them. "
   ]
  },
  {
   "cell_type": "code",
   "execution_count": 1,
   "id": "f6794d14-ac43-4499-9d73-d8b2902ff1a3",
   "metadata": {},
   "outputs": [],
   "source": [
    "import datetime\n",
    "\n",
    "import matplotlib.pyplot as plt\n",
    "import numpy as np\n",
    "import pandas as pd\n",
    "import pandas_datareader as pdr  # IF NECESSARY, from terminal: pip install pandas_datareader\n",
    "import seaborn as sns\n",
    "from numpy.random import default_rng\n",
    "\n",
    "# these three are used to open the CCM dataset:\n",
    "from io import BytesIO\n",
    "from zipfile import ZipFile\n",
    "from urllib.request import urlopen\n",
    "\n",
    "pd.set_option(\"display.max_rows\", 10)  # display option for pandas\n",
    "# more here: https://pandas.pydata.org/pandas-docs/stable/user_guide/options.html"
   ]
  },
  {
   "cell_type": "markdown",
   "id": "f6a5aeb6-713e-458b-a94b-494a3a153447",
   "metadata": {},
   "source": [
    "## Load macro_data"
   ]
  },
  {
   "cell_type": "code",
   "execution_count": null,
   "id": "831bc97e-80a2-4a39-bc7f-17c666428872",
   "metadata": {},
   "outputs": [],
   "source": [
    "# LOAD DATA AND CONVERT TO ANNUAL\n",
    "\n",
    "start = 1990 # pandas datareader can infer these are years\n",
    "end = 2018\n",
    "macro_data = pdr.data.DataReader(['CAUR','MIUR','PAUR', # unemployment \n",
    "                                  'LXXRSA','DEXRSA','WDXRSA', # case shiller index in LA, Detroit, DC (no PA  available!)\n",
    "                                  'MEHOINUSCAA672N','MEHOINUSMIA672N','MEHOINUSPAA672N'], #  \n",
    "                                 'fred', start, end)\n",
    "macro_data = macro_data.resample('Y').first() # get's the first observation for each variable in a given year\n",
    "\n",
    "# CLEAN UP THE FORMATING SOMEWHAT\n",
    "\n",
    "macro_data.index = macro_data.index.year\n",
    "macro_data.columns=pd.MultiIndex.from_tuples([\n",
    "    ('Unemployment','CA'),('Unemployment','MI'),('Unemployment','PA'),\n",
    "    ('HouseIdx','CA'),('HouseIdx','MI'),('HouseIdx','PA'),\n",
    "    ('MedIncome','CA'),('MedIncome','MI'),('MedIncome','PA')\n",
    "    ])\n",
    "\n"
   ]
  },
  {
   "cell_type": "code",
   "execution_count": null,
   "id": "2156bca5-e0af-4142-b867-d9ed1c1cf080",
   "metadata": {},
   "outputs": [],
   "source": [
    "year_state_tall = macro_data.stack().reset_index().rename(columns={'level_1':'state'}).sort_values(['state','DATE'])    \n",
    "\n",
    "year_state_wide = macro_data\n",
    "# one level names\n",
    "year_state_wide.columns=[\n",
    "    'Unemployment_CA','Unemployment_MI','Unemployment_PA',\n",
    "    'HouseIdx_CA','HouseIdx_MI','HouseIdx_PA',\n",
    "    'MedIncome_CA','MedIncome_MI','MedIncome_PA'\n",
    "    ]"
   ]
  },
  {
   "cell_type": "markdown",
   "id": "58480bab-54c3-4c78-9f27-320b31177a73",
   "metadata": {},
   "source": [
    "## And load CCM data\n",
    "\n",
    "First, load the data"
   ]
  },
  {
   "cell_type": "code",
   "execution_count": 2,
   "id": "3c4cf59b-7f2a-42c6-8bad-a0e8d095b6d0",
   "metadata": {},
   "outputs": [],
   "source": [
    "url = 'https://github.com/LeDataSciFi/ledatascifi-2025/blob/main/data/CCM_cleaned_for_class.zip?raw=true'\n",
    "\n",
    "#firms = pd.read_stata(url)   \n",
    "# <-- that code would work, but GH said it was too big and\n",
    "# forced me to zip it, so here is the work around to download it:\n",
    "\n",
    "with urlopen(url) as request:\n",
    "    data = BytesIO(request.read())\n",
    "\n",
    "with ZipFile(data) as archive:\n",
    "    with archive.open(archive.namelist()[0]) as stata:\n",
    "        ccm = pd.read_stata(stata)"
   ]
  },
  {
   "cell_type": "markdown",
   "id": "88a0321d-f678-4d04-8dbc-68c037c78f4a",
   "metadata": {
    "tags": []
   },
   "source": [
    "## Sidebar: Here's a fun EDA hack:\n",
    "\n",
    "https://ydata-profiling.ydata.ai/docs/master/index.html\n",
    "\n",
    "Notes\n",
    "- Slow with huge datasets (see webpage \n",
    "- Doesn't work with multiindex column names (must be \"one level\")"
   ]
  },
  {
   "cell_type": "code",
   "execution_count": null,
   "id": "ec1365a8-38e2-4ab6-bb7d-7e1b8f0ed455",
   "metadata": {},
   "outputs": [],
   "source": [
    "# install new package (run this one time only)\n",
    "# !pip install -U ydata-profiling\n",
    "\n",
    "# i got an error towards the end but it still installed..."
   ]
  },
  {
   "cell_type": "code",
   "execution_count": null,
   "id": "49faef62-8691-4fba-9420-b62e894c8e03",
   "metadata": {},
   "outputs": [],
   "source": [
    "# this package used to be called pandas-profiling\n",
    "# new name, better performance (speed and features)\n",
    "# from ydata_profiling import ProfileReport\n",
    "\n",
    "# create the report:\n",
    "# profile = ProfileReport(macro_data, title=\"Pandas Profiling Report\")\n",
    "# profile.to_file(\"macro_data_report.html\")\n",
    "\n"
   ]
  },
  {
   "cell_type": "markdown",
   "id": "2c651052-4760-4e6a-a2cf-8bb9c929df17",
   "metadata": {},
   "source": [
    "From the `year_state` data (wide or tall):\n",
    "\n",
    "_(\"unemployment changes\": Focus on the change in the _level_ (raw difference, not percent change) of unemployment from one year compared the prior year.)_\n",
    "\n",
    "- Q0. How has median income has evolved over time for PA?\n",
    "    - Demos...\n",
    "- Q1. How has *unemployment changes* evolved over time for PA?   \n",
    "- Q2. What is the distribution of unemployment changes for all states (view as one var)?   \n",
    "- Q3. What is the distribution of unemployment changes for all states (separately)?\n",
    "- Q4. How does unemployment changes vary with median income growth?\n",
    "\n",
    "From the `ccm` data:\n",
    "\n",
    "- Q5. Plot the distribution of R&D (`xrd_a`). Bonuses:\n",
    "    - deal with outliers\n",
    "    - add a title\n",
    "    - change the x and y axis titles\n",
    "- Q6: Compare R&D and CAPX. Bonuses:\n",
    "    - don't plot outliers\n",
    "    - avoid oversaturated plot"
   ]
  },
  {
   "cell_type": "code",
   "execution_count": null,
   "id": "a4a38411-c27f-4df4-bdfd-b1517704ecc5",
   "metadata": {},
   "outputs": [],
   "source": [
    "year_state_tall # aka tidy data in the \"R\" world - a column is a variable, a row has a key uniquely IDing it"
   ]
  },
  {
   "cell_type": "code",
   "execution_count": null,
   "id": "9e434ad9-2f0b-40bb-a2b0-e509293ad465",
   "metadata": {},
   "outputs": [],
   "source": [
    "year_state_wide"
   ]
  },
  {
   "cell_type": "code",
   "execution_count": null,
   "id": "28d8b0ed-fe85-42ba-8ce0-e485482f402e",
   "metadata": {},
   "outputs": [],
   "source": [
    "# - Q0. How has median income has evolved over time for PA?\n",
    "#     - Demos..."
   ]
  },
  {
   "cell_type": "code",
   "execution_count": null,
   "id": "940bacc8-3c46-40dc-9ad5-2df265cb433c",
   "metadata": {},
   "outputs": [],
   "source": [
    "# from the WIDE, using pandas plot\n",
    "year_state_wide['MedIncome_PA'].plot()"
   ]
  },
  {
   "cell_type": "code",
   "execution_count": null,
   "id": "69ea9cd0-2409-4fa3-be21-c08c41bffc66",
   "metadata": {},
   "outputs": [],
   "source": [
    "# from the tall, using pandas\n",
    "med_income_pa = year_state_tall.query('state==\"PA\"')[['DATE','MedIncome']]\n",
    "\n",
    "med_income_pa.set_index('DATE').plot()  \n"
   ]
  },
  {
   "cell_type": "code",
   "execution_count": null,
   "id": "5d38aae5-aac9-4f72-91bf-6266d5929315",
   "metadata": {},
   "outputs": [],
   "source": [
    "# from the tall, using pandas (one line)\n",
    "year_state_tall.query('state==\"PA\"')[['DATE','MedIncome']].set_index('DATE').plot()  \n"
   ]
  },
  {
   "cell_type": "code",
   "execution_count": null,
   "id": "74a052ca-f4f1-42d6-9bae-57a957504320",
   "metadata": {},
   "outputs": [],
   "source": [
    "# from the tall, using seaborn\n",
    "\n",
    "# plot median income for PA over time\n",
    "sns.lineplot(data=year_state_tall.query('state==\"PA\"'), # you can query in the data arg \n",
    "             x='DATE', \n",
    "             y='MedIncome')\n",
    "\n",
    "# one way to add labels and stuff - plt.thing('text')\n",
    "plt.xlabel('Year')\n",
    "plt.title('Median Income in PA')\n"
   ]
  },
  {
   "cell_type": "code",
   "execution_count": null,
   "id": "6659a9e2-4d0f-4308-a907-0281dd7212bf",
   "metadata": {},
   "outputs": [],
   "source": [
    "# tall with sns with alt query \n",
    "sns.lineplot(x='DATE',y='MedIncome',\n",
    "             data=year_state_tall[ year_state_tall['state'].isin(['PA']) ] )\n",
    "\n",
    "# year_state_tall['state'] == \"PA\""
   ]
  },
  {
   "cell_type": "code",
   "execution_count": null,
   "id": "d6c0496c-c1ce-4ad4-b524-7d26c74dd57b",
   "metadata": {},
   "outputs": [],
   "source": [
    "# by default, with tall and groups of obs, SNS will aggregate Y by X, and plot mean/error bars \n",
    "sns.lineplot(x='DATE',y='MedIncome',\n",
    "             data=year_state_tall)\n"
   ]
  },
  {
   "cell_type": "code",
   "execution_count": null,
   "id": "d78f6180-5901-444d-935a-0cd15b1f54eb",
   "metadata": {},
   "outputs": [],
   "source": [
    "# pandas wide\n",
    "vars = ['MedIncome_CA','MedIncome_MI','MedIncome_PA']\n",
    "year_state_wide[vars].plot()"
   ]
  },
  {
   "cell_type": "code",
   "execution_count": null,
   "id": "74008728-a58b-4d68-abcc-7a5e377b205d",
   "metadata": {},
   "outputs": [],
   "source": [
    "# from tall with seaborn, easy to replicate:\n",
    "# hue controls grouping (row and col do too, but differently)_\n",
    "sns.lineplot(x='DATE',y='MedIncome',\n",
    "             data=year_state_tall, \n",
    "            hue='state')"
   ]
  },
  {
   "cell_type": "markdown",
   "id": "f80c5105-12cf-4ab0-bc8c-dc64921eeac6",
   "metadata": {},
   "source": [
    "# Q1 - WARNING/LESSON/ABCD\n",
    "\n",
    "If you create a variable in a TALL dataset based on prior rows of data... groupby!\n",
    "\n",
    "Else you propogate info from one state to next (one firm to next...)"
   ]
  },
  {
   "cell_type": "code",
   "execution_count": null,
   "id": "7bcbbe02",
   "metadata": {},
   "outputs": [],
   "source": [
    "# on tuesday, we started with this:\n",
    "\n",
    "year_state_wide['Unemployment_PA'].diff().plot()\n",
    "# year_state_wide\n",
    "# this works"
   ]
  },
  {
   "cell_type": "code",
   "execution_count": null,
   "id": "d07d446b-f632-4e8f-b2a0-c397d6f0c294",
   "metadata": {},
   "outputs": [],
   "source": [
    "# the other way to do it is via the tall dataframe \n",
    "year_state_tall['Unemployment_DIFF'] = year_state_tall['Unemployment'].diff()\n",
    "\n",
    "year_state_tall['diff'] = year_state_tall.groupby('state')['Unemployment'].diff()\n",
    "\n",
    "year_state_tall # BUT THIS HAS A PROBLEM \n",
    "year_state_tall[24:34] # diff is missing for MI in 1990, as it should be!"
   ]
  },
  {
   "cell_type": "markdown",
   "id": "aeb4d784-6689-4206-99c8-06b1fd9ac8b4",
   "metadata": {},
   "source": [
    "## Two part lesson!\n",
    "\n",
    "If you are making a variable based on some units, like \"rolling firm returns\" or \"country level inflation\"\n",
    "1. ABCD - look at the data where you go from one unit to the next\n",
    "2. Create those variables with a groupby! (if the data is \"tall\")"
   ]
  },
  {
   "cell_type": "code",
   "execution_count": null,
   "id": "471dba7f-bf56-45c0-83d6-543caa1d8da0",
   "metadata": {},
   "outputs": [],
   "source": [
    "# - Q1. How has *unemployment changes* evolved over time for PA?   \n",
    "# year_state_tall['diff'] = year_state_tall.groupby('state')['Unemployment'].diff()\n",
    "\n",
    "# # lets check!!!\n",
    "# # two options: iloc/list slice ;  or variable inspector\n",
    "# year_state_tall[25:35]"
   ]
  },
  {
   "cell_type": "code",
   "execution_count": null,
   "id": "9943a09d-f794-4d33-a0f2-1bd7b8044e54",
   "metadata": {},
   "outputs": [],
   "source": [
    "# sns with the tall data\n",
    "sns.lineplot(data=year_state_tall.query('state == \"PA\"' ),\n",
    "             x = \"DATE\", \n",
    "             y = \"diff\")"
   ]
  },
  {
   "cell_type": "code",
   "execution_count": null,
   "id": "7e60ddfb-9b0a-46ef-91e3-1890e2e7c2d7",
   "metadata": {},
   "outputs": [],
   "source": [
    "# if we remove the \"query\" that limits the data to just PA, it wants to plot all the states\n",
    "# but what is the 1994 number to use? By default, it will avg them\n",
    "# instead. use hue to say \"diff lines for each state\"\n",
    "sns.lineplot(data=year_state_tall,\n",
    "             x = \"DATE\", \n",
    "             y = \"diff\", hue='state')"
   ]
  },
  {
   "cell_type": "code",
   "execution_count": null,
   "id": "b05db4a7-4a29-4940-a4a6-3196aab802d5",
   "metadata": {},
   "outputs": [],
   "source": [
    "# q2\n",
    "\n",
    "# you can modify seaborn plots via .set() \n",
    "(\n",
    "sns\n",
    "    .kdeplot(year_state_tall['diff'])    \n",
    "    .set(title='Hey', xlabel='Some words')\n",
    ")\n",
    "plt.show() # optional, deletes the stupid msg"
   ]
  },
  {
   "cell_type": "code",
   "execution_count": null,
   "id": "1add1797-6028-4bc1-8118-b4652cb69853",
   "metadata": {},
   "outputs": [],
   "source": [
    "# one q3 solution\n",
    "sns.displot(kind='hist', col=\"state\", x=\"diff\", data=year_state_tall, stat='percent')\n",
    "\n",
    "# we played around with lots of alts here"
   ]
  },
  {
   "cell_type": "code",
   "execution_count": null,
   "id": "a5b8273e-afc9-44d9-8755-9476abd31ccd",
   "metadata": {},
   "outputs": [],
   "source": [
    "#q4\n",
    "year_state_tall['MedIncome_Change'] = year_state_tall.groupby('state')['MedIncome'].pct_change()\n"
   ]
  },
  {
   "cell_type": "code",
   "execution_count": null,
   "id": "3166aa91-552d-41a6-86ca-28f7729b226e",
   "metadata": {},
   "outputs": [],
   "source": [
    "year_state_tall\n",
    "(\n",
    "sns\n",
    ".lmplot(x=\"MedIncome_Change\", y=\"diff\", data=year_state_tall, hue='state')\n",
    ".set(ylabel='Change in Une Rate',xlabel='Inc Growth')\n",
    ")"
   ]
  },
  {
   "cell_type": "code",
   "execution_count": null,
   "id": "7582ed83-b21d-4d8b-a7e6-cf0488c0a776",
   "metadata": {},
   "outputs": [],
   "source": [
    "# q5 - kyles code \n",
    "\n",
    "# calculate the iqr to find outliers  (in a box plot, the dots outside the whiskers are foudn via this same method)\n",
    "Q1 = ccm['xrd_a'].quantile(0.25)\n",
    "Q3 = ccm['xrd_a'].quantile(0.75)\n",
    "IQR = Q3 - Q1\n",
    "\n",
    "# define range for outliers\n",
    "lower_bound = Q1 - 1.5 * IQR\n",
    "upper_bound = Q3 + 1.5 * IQR\n",
    "\n",
    "# eliminate outliers\n",
    "xrd_no_outliers = ccm[(ccm['xrd_a'] >= lower_bound) & (ccm['xrd_a'] <= upper_bound)]\n",
    "\n",
    "# Plot distribution\n",
    "xrd_no_outliers['xrd_a'].plot(kind = 'hist', bins=30, title = 'R&D Distribution')\n",
    "plt.xlabel('R&D (xrd_a)')  # label x-axis\n",
    "plt.ylabel('Frequency')    # label y-axis\n"
   ]
  },
  {
   "cell_type": "code",
   "execution_count": null,
   "id": "1e182997-3eeb-4837-9cd8-fec2d9fee9da",
   "metadata": {},
   "outputs": [],
   "source": [
    "(\n",
    "    # :1000 just so it plots faster \n",
    "    # trick+ you can modify the data in the data= spot\n",
    "    # you can sample part of the data to plot with data=df.sample()\n",
    "sns\n",
    "    .kdeplot(data=ccm[:1000].query('xrd_a >=0 & xrd_a < .25'),\n",
    "    )\n",
    ")"
   ]
  },
  {
   "cell_type": "code",
   "execution_count": null,
   "id": "2a346e87-efeb-4679-8f32-f1e4659bda2a",
   "metadata": {},
   "outputs": [],
   "source": [
    "\n",
    "- Q5. Plot the distribution of R&D (`xrd_a`). Bonuses:\n",
    "    - deal with outliers\n",
    "    - add a title\n",
    "    - change the x and y axis titles\n",
    "- Q6: Compare R&D and CAPX. Bonuses:\n",
    "    - don't plot outliers\n",
    "    - avoid oversaturated plot"
   ]
  },
  {
   "cell_type": "code",
   "execution_count": null,
   "id": "573ebd94-a970-4cad-8378-6be1f2505bc9",
   "metadata": {},
   "outputs": [],
   "source": [
    "sns.scatterplot(data=ccm,x='xrd_a',y='capx_a')"
   ]
  }
 ],
 "metadata": {
  "kernelspec": {
   "display_name": "Python 3 (ipykernel)",
   "language": "python",
   "name": "python3"
  },
  "language_info": {
   "codemirror_mode": {
    "name": "ipython",
    "version": 3
   },
   "file_extension": ".py",
   "mimetype": "text/x-python",
   "name": "python",
   "nbconvert_exporter": "python",
   "pygments_lexer": "ipython3",
   "version": "3.11.5"
  }
 },
 "nbformat": 4,
 "nbformat_minor": 5
}
