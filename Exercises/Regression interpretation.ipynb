{
 "cells": [
  {
   "cell_type": "markdown",
   "metadata": {},
   "source": [
    "# THIS FILE IS IN THE HANDOUTS FOLDER. COPY IT INTO YOUR CLASS NOTES\n",
    "\n",
    "- [**Read the chapter on the website!**](https://ledatascifi.github.io/ledatascifi-2025/content/05/02_reg.html) It contains a lot of extra information we won't cover in class extensively.\n",
    "- After reading that, I recommend [this webpage as a complimentary place to get additional intuition.](https://aeturrell.github.io/coding-for-economists/econmt-regression.html)\n",
    "\n",
    "## Today\n",
    "\n",
    "[Finish picking teams and declare initial project interests in the project sheet](https://docs.google.com/spreadsheets/d/1SMetWKgI3JdhFdBwihDgIY3BDubvihkJCWbgLcCe4fs/edit?usp=sharing)\n"
   ]
  },
  {
   "cell_type": "markdown",
   "metadata": {},
   "source": [
    "# Today is mostly about INTERPRETING COEFFICIENTS (6.4 in the book)\n",
    "\n",
    "1. 25 min reading groups: Talk/read through two regression pages (6.3 and 6.4) \n",
    "    - Assemble your own notes. Perhaps in the \"Module 4 notes\" file, but you can do this in any file you want.\n",
    "    - After class, each group will email their notes to the TA/me for participation. (Effort grading.)\n",
    "1. 10 min: class builds joint \"big takeaways and nuanced observations\" \n",
    "1. 5 min: Interpret models 1-2 as class as practice. \n",
    "1. 20 min reading groups: Work through remaining problems below.\n",
    "1. 10 min: wrap up  \n",
    "\n",
    "---"
   ]
  },
  {
   "cell_type": "code",
   "execution_count": 2,
   "metadata": {},
   "outputs": [],
   "source": [
    "import pandas as pd\n",
    "from statsmodels.formula.api import ols as sm_ols\n",
    "import numpy as np\n",
    "import seaborn as sns\n",
    "from statsmodels.iolib.summary2 import summary_col # nicer tables\n",
    "import matplotlib.pyplot as plt\n"
   ]
  },
  {
   "cell_type": "code",
   "execution_count": 3,
   "metadata": {},
   "outputs": [],
   "source": [
    "url = 'https://github.com/LeDataSciFi/ledatascifi-2025/blob/main/data/Fannie_Mae_Plus_Data.gzip?raw=true'\n",
    "fannie_mae = pd.read_csv(url,compression='gzip') "
   ]
  },
  {
   "cell_type": "markdown",
   "metadata": {},
   "source": [
    "## Clean the data and create variables you want"
   ]
  },
  {
   "cell_type": "code",
   "execution_count": 4,
   "metadata": {},
   "outputs": [],
   "source": [
    "fannie_mae = (fannie_mae\n",
    "                  # create variables\n",
    "                  .assign(l_credscore = np.log(fannie_mae['Borrower_Credit_Score_at_Origination']),\n",
    "                          l_LTV = np.log(fannie_mae['Original_LTV_(OLTV)']),\n",
    "                          l_int = np.log(fannie_mae['Original_Interest_Rate']),\n",
    "                          Origination_Date = lambda x: pd.to_datetime(x['Origination_Date']),\n",
    "                          Origination_Year = lambda x: x['Origination_Date'].dt.year,\n",
    "                          const = 1\n",
    "                         )\n",
    "                  .rename(columns={'Original_Interest_Rate':'int'}) # shorter name will help the table formatting\n",
    "             )\n",
    "\n",
    "# create a categorical credit bin var with \"pd.cut()\"\n",
    "fannie_mae['creditbins']= pd.cut(fannie_mae['Co-borrower_credit_score_at_origination'],\n",
    "                                 [0,579,669,739,799,850],\n",
    "                                 labels=['Very Poor','Fair','Good','Very Good','Exceptional'])\n"
   ]
  },
  {
   "cell_type": "code",
   "execution_count": 5,
   "metadata": {},
   "outputs": [
    {
     "data": {
      "application/vnd.microsoft.datawrangler.viewer.v0+json": {
       "columns": [
        {
         "name": "index",
         "rawType": "object",
         "type": "string"
        },
        {
         "name": "Loan_Identifier",
         "rawType": "float64",
         "type": "float"
        },
        {
         "name": "int",
         "rawType": "float64",
         "type": "float"
        },
        {
         "name": "Original_UPB",
         "rawType": "float64",
         "type": "float"
        },
        {
         "name": "Original_Loan_Term",
         "rawType": "float64",
         "type": "float"
        },
        {
         "name": "Original_LTV_(OLTV)",
         "rawType": "float64",
         "type": "float"
        },
        {
         "name": "Original_Combined_LTV_(CLTV)",
         "rawType": "float64",
         "type": "float"
        },
        {
         "name": "Number_of_Borrowers",
         "rawType": "float64",
         "type": "float"
        },
        {
         "name": "Original_Debt_to_Income_Ratio",
         "rawType": "float64",
         "type": "float"
        },
        {
         "name": "Borrower_Credit_Score_at_Origination",
         "rawType": "float64",
         "type": "float"
        },
        {
         "name": "Number_of_units",
         "rawType": "float64",
         "type": "float"
        },
        {
         "name": "Zip_code_short",
         "rawType": "float64",
         "type": "float"
        },
        {
         "name": "Primary_mortgage_insurance_percent",
         "rawType": "float64",
         "type": "float"
        },
        {
         "name": "Co-borrower_credit_score_at_origination",
         "rawType": "float64",
         "type": "float"
        },
        {
         "name": "Mortgage_Insurance_type",
         "rawType": "float64",
         "type": "float"
        },
        {
         "name": "Origination_Date",
         "rawType": "object",
         "type": "unknown"
        },
        {
         "name": "UNRATE",
         "rawType": "float64",
         "type": "float"
        },
        {
         "name": "CPIAUCSL",
         "rawType": "float64",
         "type": "float"
        },
        {
         "name": "rGDP",
         "rawType": "float64",
         "type": "float"
        },
        {
         "name": "TCMR",
         "rawType": "float64",
         "type": "float"
        },
        {
         "name": "POILWTIUSDM",
         "rawType": "float64",
         "type": "float"
        },
        {
         "name": "TTLCONS",
         "rawType": "float64",
         "type": "float"
        },
        {
         "name": "DEXUSEU",
         "rawType": "float64",
         "type": "float"
        },
        {
         "name": "BOPGSTB",
         "rawType": "float64",
         "type": "float"
        },
        {
         "name": "GOLDAMGBD228NLBM",
         "rawType": "float64",
         "type": "float"
        },
        {
         "name": "CSUSHPISA",
         "rawType": "float64",
         "type": "float"
        },
        {
         "name": "MSPUS",
         "rawType": "float64",
         "type": "float"
        },
        {
         "name": "l_credscore",
         "rawType": "float64",
         "type": "float"
        },
        {
         "name": "l_LTV",
         "rawType": "float64",
         "type": "float"
        },
        {
         "name": "l_int",
         "rawType": "float64",
         "type": "float"
        },
        {
         "name": "Origination_Year",
         "rawType": "float64",
         "type": "float"
        },
        {
         "name": "const",
         "rawType": "float64",
         "type": "float"
        }
       ],
       "conversionMethod": "pd.DataFrame",
       "ref": "f65511a9-285c-4077-b464-434f2870b0be",
       "rows": [
        [
         "count",
         "135038.0",
         "135038.0",
         "135038.0",
         "135038.0",
         "135038.0",
         "134007.0",
         "135007.0",
         "132396.0",
         "134481.0",
         "135038.0",
         "135038.0",
         "24322.0",
         "67366.0",
         "24322.0",
         "135038",
         "135038.0",
         "135038.0",
         "135038.0",
         "135038.0",
         "135038.0",
         "135038.0",
         "135038.0",
         "135038.0",
         "135038.0",
         "135038.0",
         "135038.0",
         "134481.0",
         "135038.0",
         "135038.0",
         "135038.0",
         "135038.0"
        ],
        [
         "mean",
         "551802281913.2393",
         "5.238376478034332",
         "188931.07125401738",
         "307.06482619707043",
         "70.05729498363424",
         "70.86085801487982",
         "1.5879102565052183",
         "33.298732590108465",
         "742.4287966329816",
         "1.0350271775352122",
         "545.9760956175298",
         "23.75980593701176",
         "751.1459044621917",
         "1.0819011594441246",
         "2008-05-30 11:39:53.939483648",
         "6.158662006250093",
         "208.18832611561194",
         "2.083868244494142",
         "3.478040072133141",
         "56.27779558775626",
         "963119.3408670152",
         "1.1807711246756023",
         "-42336.575452835496",
         "845.9498032171246",
         "148.63428317214414",
         "231137.66495356863",
         "6.60720886150288",
         "4.207507631459906",
         "1.6247591100272019",
         "2007.9485922481078",
         "1.0"
        ],
        [
         "min",
         "100002000000.0",
         "2.25",
         "8000.0",
         "60.0",
         "4.0",
         "4.0",
         "1.0",
         "1.0",
         "361.0",
         "1.0",
         "0.0",
         "6.0",
         "400.0",
         "1.0",
         "1999-01-01 00:00:00",
         "3.8",
         "164.7",
         "-8.4",
         "1.504",
         "11.99",
         "708818.0",
         "0.8525380952380951",
         "-67823.0",
         "256.19772727272726",
         "93.236",
         "157400.0",
         "5.8888779583328805",
         "1.3862943611198906",
         "0.8109302162163288",
         "1999.0",
         "1.0"
        ],
        [
         "25%",
         "327066500000.0",
         "4.25",
         "108000.0",
         "240.0",
         "60.0",
         "61.0",
         "1.0",
         "25.0",
         "707.0",
         "1.0",
         "295.0",
         "18.0",
         "721.0",
         "1.0",
         "2003-03-01 00:00:00",
         "4.9",
         "183.1",
         "0.9",
         "2.3245454545454547",
         "30.71",
         "846777.0",
         "1.072657894736842",
         "-45943.0",
         "350.7652173913044",
         "130.151",
         "190100.0",
         "6.561030665896573",
         "4.0943445622221",
         "1.4469189829363254",
         "2003.0",
         "1.0"
        ],
        [
         "50%",
         "552532500000.0",
         "5.25",
         "164000.0",
         "360.0",
         "75.0",
         "75.0",
         "2.0",
         "33.0",
         "755.0",
         "1.0",
         "549.0",
         "25.0",
         "765.0",
         "1.0",
         "2008-04-01 00:00:00",
         "5.7",
         "212.495",
         "2.2",
         "3.675",
         "48.7486363636364",
         "891264.0",
         "1.1913349999999998",
         "-41360.0",
         "857.7261904761905",
         "145.632",
         "224100.0",
         "6.626717749249025",
         "4.31748811353631",
         "1.6582280766035324",
         "2008.0",
         "1.0"
        ],
        [
         "75%",
         "777328250000.0",
         "6.125",
         "247000.0",
         "360.0",
         "80.0",
         "80.0",
         "2.0",
         "42.0",
         "786.0",
         "1.0",
         "844.0",
         "30.0",
         "791.0",
         "1.0",
         "2013-03-01 00:00:00",
         "7.5",
         "231.797",
         "3.5",
         "4.347619047619047",
         "81.8995238095238",
         "1101187.0",
         "1.3160190476190474",
         "-36519.0",
         "1273.5795454545453",
         "169.868",
         "258400.0",
         "6.666956792429207",
         "4.382026634673881",
         "1.8123787564307907",
         "2013.0",
         "1.0"
        ],
        [
         "max",
         "999985000000.0",
         "11.0",
         "1170000.0",
         "360.0",
         "97.0",
         "142.0",
         "8.0",
         "64.0",
         "850.0",
         "4.0",
         "999.0",
         "50.0",
         "850.0",
         "3.0",
         "2018-06-01 00:00:00",
         "10.0",
         "251.176",
         "7.5",
         "6.661000000000001",
         "133.927142857143",
         "1335425.0",
         "1.5758636363636362",
         "-15946.0",
         "1780.6477272727273",
         "202.411",
         "337900.0",
         "6.745236349484363",
         "4.574710978503383",
         "2.3978952727983707",
         "2018.0",
         "1.0"
        ],
        [
         "std",
         "259782148831.19727",
         "1.2898954604622552",
         "108742.37938130318",
         "82.33167429018484",
         "17.493178202905423",
         "17.566606729077876",
         "0.5084095479409172",
         "11.50869764285077",
         "53.42807551965619",
         "0.24434511692685007",
         "306.0106240985351",
         "7.151128360447669",
         "50.5762264143953",
         "0.2745194312840779",
         null,
         "1.6571915344523416",
         "24.776994264251016",
         "2.3105790902847283",
         "1.2071000692820915",
         "27.841046550157166",
         "153846.4495513989",
         "0.17275372970192393",
         "9404.518715697133",
         "498.1153598319554",
         "24.712707652863674",
         "46186.08414253595",
         "0.07467517398920735",
         "0.3163634552453617",
         "0.25304925373520043",
         "5.497838468826631",
         "0.0"
        ]
       ],
       "shape": {
        "columns": 31,
        "rows": 8
       }
      },
      "text/html": [
       "<div>\n",
       "<style scoped>\n",
       "    .dataframe tbody tr th:only-of-type {\n",
       "        vertical-align: middle;\n",
       "    }\n",
       "\n",
       "    .dataframe tbody tr th {\n",
       "        vertical-align: top;\n",
       "    }\n",
       "\n",
       "    .dataframe thead th {\n",
       "        text-align: right;\n",
       "    }\n",
       "</style>\n",
       "<table border=\"1\" class=\"dataframe\">\n",
       "  <thead>\n",
       "    <tr style=\"text-align: right;\">\n",
       "      <th></th>\n",
       "      <th>Loan_Identifier</th>\n",
       "      <th>int</th>\n",
       "      <th>Original_UPB</th>\n",
       "      <th>Original_Loan_Term</th>\n",
       "      <th>Original_LTV_(OLTV)</th>\n",
       "      <th>Original_Combined_LTV_(CLTV)</th>\n",
       "      <th>Number_of_Borrowers</th>\n",
       "      <th>Original_Debt_to_Income_Ratio</th>\n",
       "      <th>Borrower_Credit_Score_at_Origination</th>\n",
       "      <th>Number_of_units</th>\n",
       "      <th>...</th>\n",
       "      <th>DEXUSEU</th>\n",
       "      <th>BOPGSTB</th>\n",
       "      <th>GOLDAMGBD228NLBM</th>\n",
       "      <th>CSUSHPISA</th>\n",
       "      <th>MSPUS</th>\n",
       "      <th>l_credscore</th>\n",
       "      <th>l_LTV</th>\n",
       "      <th>l_int</th>\n",
       "      <th>Origination_Year</th>\n",
       "      <th>const</th>\n",
       "    </tr>\n",
       "  </thead>\n",
       "  <tbody>\n",
       "    <tr>\n",
       "      <th>count</th>\n",
       "      <td>1.350380e+05</td>\n",
       "      <td>135038.000000</td>\n",
       "      <td>1.350380e+05</td>\n",
       "      <td>135038.000000</td>\n",
       "      <td>135038.000000</td>\n",
       "      <td>134007.000000</td>\n",
       "      <td>135007.00000</td>\n",
       "      <td>132396.000000</td>\n",
       "      <td>134481.000000</td>\n",
       "      <td>135038.000000</td>\n",
       "      <td>...</td>\n",
       "      <td>135038.000000</td>\n",
       "      <td>135038.000000</td>\n",
       "      <td>135038.000000</td>\n",
       "      <td>135038.000000</td>\n",
       "      <td>135038.000000</td>\n",
       "      <td>134481.000000</td>\n",
       "      <td>135038.000000</td>\n",
       "      <td>135038.000000</td>\n",
       "      <td>135038.000000</td>\n",
       "      <td>135038.0</td>\n",
       "    </tr>\n",
       "    <tr>\n",
       "      <th>mean</th>\n",
       "      <td>5.518023e+11</td>\n",
       "      <td>5.238376</td>\n",
       "      <td>1.889311e+05</td>\n",
       "      <td>307.064826</td>\n",
       "      <td>70.057295</td>\n",
       "      <td>70.860858</td>\n",
       "      <td>1.58791</td>\n",
       "      <td>33.298733</td>\n",
       "      <td>742.428797</td>\n",
       "      <td>1.035027</td>\n",
       "      <td>...</td>\n",
       "      <td>1.180771</td>\n",
       "      <td>-42336.575453</td>\n",
       "      <td>845.949803</td>\n",
       "      <td>148.634283</td>\n",
       "      <td>231137.664954</td>\n",
       "      <td>6.607209</td>\n",
       "      <td>4.207508</td>\n",
       "      <td>1.624759</td>\n",
       "      <td>2007.948592</td>\n",
       "      <td>1.0</td>\n",
       "    </tr>\n",
       "    <tr>\n",
       "      <th>min</th>\n",
       "      <td>1.000020e+11</td>\n",
       "      <td>2.250000</td>\n",
       "      <td>8.000000e+03</td>\n",
       "      <td>60.000000</td>\n",
       "      <td>4.000000</td>\n",
       "      <td>4.000000</td>\n",
       "      <td>1.00000</td>\n",
       "      <td>1.000000</td>\n",
       "      <td>361.000000</td>\n",
       "      <td>1.000000</td>\n",
       "      <td>...</td>\n",
       "      <td>0.852538</td>\n",
       "      <td>-67823.000000</td>\n",
       "      <td>256.197727</td>\n",
       "      <td>93.236000</td>\n",
       "      <td>157400.000000</td>\n",
       "      <td>5.888878</td>\n",
       "      <td>1.386294</td>\n",
       "      <td>0.810930</td>\n",
       "      <td>1999.000000</td>\n",
       "      <td>1.0</td>\n",
       "    </tr>\n",
       "    <tr>\n",
       "      <th>25%</th>\n",
       "      <td>3.270665e+11</td>\n",
       "      <td>4.250000</td>\n",
       "      <td>1.080000e+05</td>\n",
       "      <td>240.000000</td>\n",
       "      <td>60.000000</td>\n",
       "      <td>61.000000</td>\n",
       "      <td>1.00000</td>\n",
       "      <td>25.000000</td>\n",
       "      <td>707.000000</td>\n",
       "      <td>1.000000</td>\n",
       "      <td>...</td>\n",
       "      <td>1.072658</td>\n",
       "      <td>-45943.000000</td>\n",
       "      <td>350.765217</td>\n",
       "      <td>130.151000</td>\n",
       "      <td>190100.000000</td>\n",
       "      <td>6.561031</td>\n",
       "      <td>4.094345</td>\n",
       "      <td>1.446919</td>\n",
       "      <td>2003.000000</td>\n",
       "      <td>1.0</td>\n",
       "    </tr>\n",
       "    <tr>\n",
       "      <th>50%</th>\n",
       "      <td>5.525325e+11</td>\n",
       "      <td>5.250000</td>\n",
       "      <td>1.640000e+05</td>\n",
       "      <td>360.000000</td>\n",
       "      <td>75.000000</td>\n",
       "      <td>75.000000</td>\n",
       "      <td>2.00000</td>\n",
       "      <td>33.000000</td>\n",
       "      <td>755.000000</td>\n",
       "      <td>1.000000</td>\n",
       "      <td>...</td>\n",
       "      <td>1.191335</td>\n",
       "      <td>-41360.000000</td>\n",
       "      <td>857.726190</td>\n",
       "      <td>145.632000</td>\n",
       "      <td>224100.000000</td>\n",
       "      <td>6.626718</td>\n",
       "      <td>4.317488</td>\n",
       "      <td>1.658228</td>\n",
       "      <td>2008.000000</td>\n",
       "      <td>1.0</td>\n",
       "    </tr>\n",
       "    <tr>\n",
       "      <th>75%</th>\n",
       "      <td>7.773282e+11</td>\n",
       "      <td>6.125000</td>\n",
       "      <td>2.470000e+05</td>\n",
       "      <td>360.000000</td>\n",
       "      <td>80.000000</td>\n",
       "      <td>80.000000</td>\n",
       "      <td>2.00000</td>\n",
       "      <td>42.000000</td>\n",
       "      <td>786.000000</td>\n",
       "      <td>1.000000</td>\n",
       "      <td>...</td>\n",
       "      <td>1.316019</td>\n",
       "      <td>-36519.000000</td>\n",
       "      <td>1273.579545</td>\n",
       "      <td>169.868000</td>\n",
       "      <td>258400.000000</td>\n",
       "      <td>6.666957</td>\n",
       "      <td>4.382027</td>\n",
       "      <td>1.812379</td>\n",
       "      <td>2013.000000</td>\n",
       "      <td>1.0</td>\n",
       "    </tr>\n",
       "    <tr>\n",
       "      <th>max</th>\n",
       "      <td>9.999850e+11</td>\n",
       "      <td>11.000000</td>\n",
       "      <td>1.170000e+06</td>\n",
       "      <td>360.000000</td>\n",
       "      <td>97.000000</td>\n",
       "      <td>142.000000</td>\n",
       "      <td>8.00000</td>\n",
       "      <td>64.000000</td>\n",
       "      <td>850.000000</td>\n",
       "      <td>4.000000</td>\n",
       "      <td>...</td>\n",
       "      <td>1.575864</td>\n",
       "      <td>-15946.000000</td>\n",
       "      <td>1780.647727</td>\n",
       "      <td>202.411000</td>\n",
       "      <td>337900.000000</td>\n",
       "      <td>6.745236</td>\n",
       "      <td>4.574711</td>\n",
       "      <td>2.397895</td>\n",
       "      <td>2018.000000</td>\n",
       "      <td>1.0</td>\n",
       "    </tr>\n",
       "    <tr>\n",
       "      <th>std</th>\n",
       "      <td>2.597821e+11</td>\n",
       "      <td>1.289895</td>\n",
       "      <td>1.087424e+05</td>\n",
       "      <td>82.331674</td>\n",
       "      <td>17.493178</td>\n",
       "      <td>17.566607</td>\n",
       "      <td>0.50841</td>\n",
       "      <td>11.508698</td>\n",
       "      <td>53.428076</td>\n",
       "      <td>0.244345</td>\n",
       "      <td>...</td>\n",
       "      <td>0.172754</td>\n",
       "      <td>9404.518716</td>\n",
       "      <td>498.115360</td>\n",
       "      <td>24.712708</td>\n",
       "      <td>46186.084143</td>\n",
       "      <td>0.074675</td>\n",
       "      <td>0.316363</td>\n",
       "      <td>0.253049</td>\n",
       "      <td>5.497838</td>\n",
       "      <td>0.0</td>\n",
       "    </tr>\n",
       "  </tbody>\n",
       "</table>\n",
       "<p>8 rows × 31 columns</p>\n",
       "</div>"
      ],
      "text/plain": [
       "       Loan_Identifier            int  Original_UPB  Original_Loan_Term  \\\n",
       "count     1.350380e+05  135038.000000  1.350380e+05       135038.000000   \n",
       "mean      5.518023e+11       5.238376  1.889311e+05          307.064826   \n",
       "min       1.000020e+11       2.250000  8.000000e+03           60.000000   \n",
       "25%       3.270665e+11       4.250000  1.080000e+05          240.000000   \n",
       "50%       5.525325e+11       5.250000  1.640000e+05          360.000000   \n",
       "75%       7.773282e+11       6.125000  2.470000e+05          360.000000   \n",
       "max       9.999850e+11      11.000000  1.170000e+06          360.000000   \n",
       "std       2.597821e+11       1.289895  1.087424e+05           82.331674   \n",
       "\n",
       "       Original_LTV_(OLTV)  Original_Combined_LTV_(CLTV)  Number_of_Borrowers  \\\n",
       "count        135038.000000                 134007.000000         135007.00000   \n",
       "mean             70.057295                     70.860858              1.58791   \n",
       "min               4.000000                      4.000000              1.00000   \n",
       "25%              60.000000                     61.000000              1.00000   \n",
       "50%              75.000000                     75.000000              2.00000   \n",
       "75%              80.000000                     80.000000              2.00000   \n",
       "max              97.000000                    142.000000              8.00000   \n",
       "std              17.493178                     17.566607              0.50841   \n",
       "\n",
       "       Original_Debt_to_Income_Ratio  Borrower_Credit_Score_at_Origination  \\\n",
       "count                  132396.000000                         134481.000000   \n",
       "mean                       33.298733                            742.428797   \n",
       "min                         1.000000                            361.000000   \n",
       "25%                        25.000000                            707.000000   \n",
       "50%                        33.000000                            755.000000   \n",
       "75%                        42.000000                            786.000000   \n",
       "max                        64.000000                            850.000000   \n",
       "std                        11.508698                             53.428076   \n",
       "\n",
       "       Number_of_units  ...        DEXUSEU        BOPGSTB  GOLDAMGBD228NLBM  \\\n",
       "count    135038.000000  ...  135038.000000  135038.000000     135038.000000   \n",
       "mean          1.035027  ...       1.180771  -42336.575453        845.949803   \n",
       "min           1.000000  ...       0.852538  -67823.000000        256.197727   \n",
       "25%           1.000000  ...       1.072658  -45943.000000        350.765217   \n",
       "50%           1.000000  ...       1.191335  -41360.000000        857.726190   \n",
       "75%           1.000000  ...       1.316019  -36519.000000       1273.579545   \n",
       "max           4.000000  ...       1.575864  -15946.000000       1780.647727   \n",
       "std           0.244345  ...       0.172754    9404.518716        498.115360   \n",
       "\n",
       "           CSUSHPISA          MSPUS    l_credscore          l_LTV  \\\n",
       "count  135038.000000  135038.000000  134481.000000  135038.000000   \n",
       "mean      148.634283  231137.664954       6.607209       4.207508   \n",
       "min        93.236000  157400.000000       5.888878       1.386294   \n",
       "25%       130.151000  190100.000000       6.561031       4.094345   \n",
       "50%       145.632000  224100.000000       6.626718       4.317488   \n",
       "75%       169.868000  258400.000000       6.666957       4.382027   \n",
       "max       202.411000  337900.000000       6.745236       4.574711   \n",
       "std        24.712708   46186.084143       0.074675       0.316363   \n",
       "\n",
       "               l_int  Origination_Year     const  \n",
       "count  135038.000000     135038.000000  135038.0  \n",
       "mean        1.624759       2007.948592       1.0  \n",
       "min         0.810930       1999.000000       1.0  \n",
       "25%         1.446919       2003.000000       1.0  \n",
       "50%         1.658228       2008.000000       1.0  \n",
       "75%         1.812379       2013.000000       1.0  \n",
       "max         2.397895       2018.000000       1.0  \n",
       "std         0.253049          5.497838       0.0  \n",
       "\n",
       "[8 rows x 31 columns]"
      ]
     },
     "execution_count": 5,
     "metadata": {},
     "output_type": "execute_result"
    }
   ],
   "source": [
    "fannie_mae.describe()"
   ]
  },
  {
   "cell_type": "markdown",
   "metadata": {},
   "source": [
    "## Statsmodels\n",
    "\n",
    "As before, the psuedocode:\n",
    "```python\n",
    "model = sm_ols(<formula>, data=<dataframe>)\n",
    "result=model.fit()\n",
    "\n",
    "# you use result to print summary, get predicted values (.predict) or residuals (.resid)\n",
    "```\n",
    "\n",
    "Now, let's save each regression's result with a different name, and below this, output them all in one nice table:"
   ]
  },
  {
   "cell_type": "code",
   "execution_count": 5,
   "metadata": {},
   "outputs": [],
   "source": [
    "# one var: 'y ~ x' means fit y = a + b*X\n",
    "\n",
    "reg1 = sm_ols('int ~  Borrower_Credit_Score_at_Origination ', data=fannie_mae).fit()\n",
    "\n",
    "reg1b= sm_ols('int ~  l_credscore  ',  data=fannie_mae).fit()\n",
    "\n",
    "reg1c= sm_ols('l_int ~  Borrower_Credit_Score_at_Origination  ',  data=fannie_mae).fit()\n",
    "\n",
    "reg1d= sm_ols('l_int ~  l_credscore  ',  data=fannie_mae).fit()\n",
    "\n",
    "# multiple variables: just add them to the formula\n",
    "# 'y ~ x1 + x2' means fit y = a + b*x1 + c*x2\n",
    "reg2 = sm_ols('int ~  l_credscore + l_LTV ',  data=fannie_mae).fit()\n",
    "\n",
    "# interaction terms: Just use *\n",
    "# Note: always include each variable separately too! (not just x1*x2, but x1+x2+x1*x2)\n",
    "reg3 = sm_ols('int ~  l_credscore + l_LTV + l_credscore*l_LTV',  data=fannie_mae).fit()\n",
    "      \n",
    "# categorical dummies: C() \n",
    "reg4 = sm_ols('int ~  C(creditbins)  ',  data=fannie_mae).fit()\n",
    "\n",
    "reg5 = sm_ols('int ~  C(creditbins)  -1', data=fannie_mae).fit()\n"
   ]
  },
  {
   "cell_type": "markdown",
   "metadata": {},
   "source": [
    "Ok, time to output them:"
   ]
  },
  {
   "cell_type": "code",
   "execution_count": 6,
   "metadata": {},
   "outputs": [
    {
     "name": "stdout",
     "output_type": "stream",
     "text": [
      "============================================================================================================\n",
      "                  y = interest rate if not specified, log(interest rate else)\n",
      "\n",
      "============================================================================================================\n",
      "                                        1        2      3 (log) 4 (log)     5         6        7        8   \n",
      "------------------------------------------------------------------------------------------------------------\n",
      "Intercept                            11.58*** 45.37*** 2.87***  9.50***  44.13*** -16.81*** 6.65***         \n",
      "                                     (0.05)   (0.29)   (0.01)   (0.06)   (0.30)   (4.11)    (0.08)          \n",
      "Borrower_Credit_Score_at_Origination -0.01***          -0.00***                                             \n",
      "                                     (0.00)            (0.00)                                               \n",
      "l_credscore                                   -6.07***          -1.19*** -5.99*** 3.22***                   \n",
      "                                              (0.04)            (0.01)   (0.04)   (0.62)                    \n",
      "l_LTV                                                                    0.15***  14.61***                  \n",
      "                                                                         (0.01)   (0.97)                    \n",
      "l_credscore:l_LTV                                                                 -2.18***                  \n",
      "                                                                                  (0.15)                    \n",
      "C(creditbins)[Very Poor]                                                                             6.65***\n",
      "                                                                                                     (0.08) \n",
      "C(creditbins)[Fair]                                                                         -0.63*** 6.02***\n",
      "                                                                                            (0.08)   (0.02) \n",
      "C(creditbins)[Good]                                                                         -1.17*** 5.48***\n",
      "                                                                                            (0.08)   (0.01) \n",
      "C(creditbins)[Exceptional]                                                                  -2.25*** 4.40***\n",
      "                                                                                            (0.08)   (0.01) \n",
      "C(creditbins)[Very Good]                                                                    -1.65*** 5.00***\n",
      "                                                                                            (0.08)   (0.01) \n",
      "R-squared                            0.13     0.12     0.13     0.12     0.13     0.13      0.11     0.11   \n",
      "R-squared Adj.                       0.13     0.12     0.13     0.12     0.13     0.13      0.11     0.11   \n",
      "Adj R-squared                        0.13     0.12     0.13     0.12     0.13     0.13      0.11     0.11   \n",
      "No. observations                     134481   134481   134481   134481   134481   134481    67366    67366  \n",
      "R-squared                            0.13     0.12     0.13     0.12     0.13     0.13      0.11     0.11   \n",
      "============================================================================================================\n",
      "Standard errors in parentheses.\n",
      "* p<.1, ** p<.05, ***p<.01\n"
     ]
    }
   ],
   "source": [
    "# now I'll format an output table\n",
    "# I'd like to include extra info in the table (not just coefficients)\n",
    "info_dict={'R-squared' : lambda x: f\"{x.rsquared:.2f}\",\n",
    "           'Adj R-squared' : lambda x: f\"{x.rsquared_adj:.2f}\",\n",
    "           'No. observations' : lambda x: f\"{int(x.nobs):d}\"}\n",
    "\n",
    "# q4b1 and q4b2 name the dummies differently in the table, so this is a silly fix\n",
    "reg4.model.exog_names[1:] = reg5.model.exog_names[1:]  \n",
    "\n",
    "# This summary col function combines a bunch of regressions into one nice table\n",
    "print('='*108)\n",
    "print('                  y = interest rate if not specified, log(interest rate else)')\n",
    "print(summary_col(results=[reg1,reg1b,reg1c,reg1d,reg2,reg3,reg4,reg5], # list the result obj here\n",
    "                  float_format='%0.2f',\n",
    "                  stars = True, # stars are easy way to see if anything is statistically significant\n",
    "                  model_names=['1','2',' 3 (log)','4 (log)','5','6','7','8'], # these are bad names, lol. Usually, just use the y variable name\n",
    "                  info_dict=info_dict,\n",
    "                  regressor_order=[ 'Intercept','Borrower_Credit_Score_at_Origination','l_credscore','l_LTV','l_credscore:l_LTV',\n",
    "                                  'C(creditbins)[Very Poor]','C(creditbins)[Fair]','C(creditbins)[Good]','C(creditbins)[Vrey Good]','C(creditbins)[Exceptional]']\n",
    "                  )\n",
    "     )"
   ]
  },
  {
   "cell_type": "markdown",
   "metadata": {},
   "source": [
    "# Today. Work in groups. Refer to the lectures. \n",
    "\n",
    "You might need to print out a few individual regressions with more decimals.\n",
    "\n",
    "1. Interpret coefs in model 1-4\n",
    "1. Interpret coefs in model 5\n",
    "1. Interpret coefs in model 6 (and visually?)\n",
    "1. Interpret coefs in model 7 (and visually? + comp to table)\n",
    "1. Interpret coefs in model 8 (and visually? + comp to table)\n",
    "1. Add l_LTV  to Model 8 and interpret (and visually?)\n",
    "\n",
    "\n",
    "\n"
   ]
  },
  {
   "cell_type": "code",
   "execution_count": 7,
   "metadata": {},
   "outputs": [],
   "source": [
    "# reg1.summary() # to see the coef in full: -0.0086"
   ]
  },
  {
   "cell_type": "markdown",
   "metadata": {},
   "source": [
    "## Model 1: int = 11.58 - 0.0086 credit\n",
    "\n",
    "- beta_0: If the credit score is 0, the expected interest rate is 11.58\n",
    "- If X↑  1 unit, then y↑  by βunits\n",
    "- beta_1: A 1 unit increase in credit score is associated with a 0.01 p.p. decrease in the interest rate\"\n",
    "- If cred = 700, int = 5.56\n",
    "- If cred = 707, int = 5.50\n",
    "- Going from 700 to 707: rate falls 6 basis points\n"
   ]
  },
  {
   "cell_type": "code",
   "execution_count": null,
   "metadata": {},
   "outputs": [
    {
     "data": {
      "text/plain": [
       "5.5600000000000005"
      ]
     },
     "execution_count": 28,
     "metadata": {},
     "output_type": "execute_result"
    }
   ],
   "source": [
    "print(11.58 - 0.0086*0)\n",
    "print(11.58 - 0.0086*700)\n",
    "print(11.58 - 0.0086*707)"
   ]
  },
  {
   "cell_type": "code",
   "execution_count": null,
   "metadata": {},
   "outputs": [
    {
     "data": {
      "text/plain": [
       "<Axes: xlabel='Borrower_Credit_Score_at_Origination'>"
      ]
     },
     "execution_count": 22,
     "metadata": {},
     "output_type": "execute_result"
    },
    {
     "data": {
      "image/png": "[encoded data removed]",
      "text/plain": [
       "<Figure size 640x480 with 1 Axes>"
      ]
     },
     "metadata": {},
     "output_type": "display_data"
    }
   ],
   "source": [
    "(\n",
    "    fannie_mae\n",
    "    .dropna(subset=['Borrower_Credit_Score_at_Origination']) # drop missing values so the next line works\n",
    "    .assign(y_hat = lambda x: reg1.predict(x))\n",
    "    .plot(x='Borrower_Credit_Score_at_Origination',y='y_hat',kind='line')\n",
    ")\n",
    "\n",
    "# below... I'll plot models 1-4 all at once \n"
   ]
  },
  {
   "cell_type": "markdown",
   "metadata": {},
   "source": [
    "## Model 2: int = 45.37 - 6.07 log(credit)\n",
    "\n",
    "- beta_0: If log(credit) is 0, (same as credit = 1), the expected interest rate is 45.37\n",
    "- The table in 6.4 says: If X↑ 1%, then y↑  by about β/100 units\n",
    "- beta_1: A 1 % increase in credit score is associated with a 0.0607 p.p. decrease in the interest rate\"\n",
    "- If cred = 700, int = 5.605\n",
    "- If cred = 707, int = 5.545\n",
    "- Going from 700 to 707: rate falls 6 basis points\n"
   ]
  },
  {
   "cell_type": "code",
   "execution_count": null,
   "metadata": {},
   "outputs": [
    {
     "data": {
      "text/plain": [
       "5.604942366286529"
      ]
     },
     "execution_count": 31,
     "metadata": {},
     "output_type": "execute_result"
    }
   ],
   "source": [
    "print(  45.37 - 6.07* np.log(1)) \n",
    "print(  45.37 - 6.07* np.log(700)) \n",
    "print(  45.37 - 6.07* np.log(707)) "
   ]
  },
  {
   "cell_type": "markdown",
   "metadata": {},
   "source": [
    "## Model 3: log(int) = 2.8 - 0.0017 credit\n",
    "\n",
    "- beta_0: If cred is 0, the expected interest rate is 17\n",
    "- The table in 6.4 says: If X↑ 1 unit, then y↑ by about 100∗β %.\n",
    "- beta_1: A 1 unit  increase in credit score is associated with a 0.17 % decrease in the interest rate\"\n",
    "- If cred = 700, int = 5.365\n",
    "- If cred = 707, int = 5.30\n",
    "- Going from 700 to 707: rate falls 6 basis points\n",
    "\n"
   ]
  },
  {
   "cell_type": "code",
   "execution_count": null,
   "metadata": {},
   "outputs": [
    {
     "name": "stdout",
     "output_type": "stream",
     "text": [
      "17.63701819983732\n",
      "5.365555971121975\n",
      "5.302084260759588\n"
     ]
    }
   ],
   "source": [
    "print(np.exp(2.87 - 0.0017*0))\n",
    "print(np.exp(2.87 - 0.0017*700))\n",
    "print(np.exp(2.87 - 0.0017*707))"
   ]
  },
  {
   "cell_type": "code",
   "execution_count": 38,
   "metadata": {},
   "outputs": [],
   "source": [
    "# reg1c.summary() # to see the coef in full: -0.0017"
   ]
  },
  {
   "cell_type": "markdown",
   "metadata": {},
   "source": [
    "## Model 4: log(int) = 9.5 - 1.19 log(credit)\n",
    "\n",
    "- beta_0: If log(cred) is 0, (cred is 1) the expected interest rate is exp(9.5) === 13,359%\n",
    "- The table in 6.4 says: If X↑ 1 %, then y↑ by about β %.\n",
    "- beta_1: A 1 %  increase in credit score is associated with a 1.19 % decrease in the interest rate\"\n",
    "- If cred = 700, int = 5.49\n",
    "- If cred = 707, int = 5.43\n",
    "- Going from 700 to 707: rate falls 6 basis points\n"
   ]
  },
  {
   "cell_type": "code",
   "execution_count": null,
   "metadata": {},
   "outputs": [
    {
     "name": "stdout",
     "output_type": "stream",
     "text": [
      "13359.726829661873\n",
      "5.497065482961815\n",
      "5.432359161191803\n"
     ]
    }
   ],
   "source": [
    "print(np.exp(9.5 - 1.19*0))\n",
    "print(np.exp(9.5 - 1.19*np.log(700)))\n",
    "print(np.exp(9.5 - 1.19*np.log(707)))"
   ]
  },
  {
   "cell_type": "markdown",
   "metadata": {},
   "source": [
    "## Model 5: int = 44.13 - 5.99 log(Cred) - 0.15 log(LTV)\n",
    "\n",
    "(Start Thursday here)\n",
    "\n",
    "- Just focusing now on beta_1...\n",
    "- A one percent increase in credit score is associated with a 0.0599 p.p. (5.99 b.p.) decline in int rate, **holding all logLTV constant**\n",
    "- If cred = 700, int = 5.396\n",
    "- If cred = 707, int = 5.33\n",
    "- Going from 700 to 707: rate falls 6 basis points\n"
   ]
  },
  {
   "cell_type": "code",
   "execution_count": 57,
   "metadata": {},
   "outputs": [
    {
     "data": {
      "text/plain": [
       "Original_LTV_(OLTV)    70.057295\n",
       "dtype: float64"
      ]
     },
     "execution_count": 57,
     "metadata": {},
     "output_type": "execute_result"
    }
   ],
   "source": [
    "fannie_mae[['Original_LTV_(OLTV)']].mean()\n"
   ]
  },
  {
   "cell_type": "code",
   "execution_count": 84,
   "metadata": {},
   "outputs": [
    {
     "name": "stdout",
     "output_type": "stream",
     "text": [
      "5.396303079397407\n",
      "5.336700597586928\n"
     ]
    }
   ],
   "source": [
    "print(44 - 5.99*np.log(700) + .15*np.log(70))\n",
    "print(44 - 5.99*np.log(707) + .15*np.log(70))\n"
   ]
  },
  {
   "cell_type": "code",
   "execution_count": 91,
   "metadata": {},
   "outputs": [
    {
     "data": {
      "image/png": "[encoded data removed]",
      "text/plain": [
       "<Figure size 640x480 with 1 Axes>"
      ]
     },
     "metadata": {},
     "output_type": "display_data"
    }
   ],
   "source": [
    "reg2.summary()\n",
    "\n",
    "\n",
    "# plot the model using params. set LTV to its avg, 70\n",
    "# y = 44 - 5.99*log(X) + .15*70\n",
    "# for X from credit score min to credit score max\n",
    "\n",
    "credit_scores = np.linspace(fannie_mae['Borrower_Credit_Score_at_Origination'].min(), \n",
    "                            fannie_mae['Borrower_Credit_Score_at_Origination'].max(), 100)\n",
    "reg2_predicted_interest_rates = reg2.params.iloc[0] +\\\n",
    "                                reg2.params.iloc[1] * np.log(credit_scores) +\\\n",
    "                                reg2.params.iloc[2] * np.log(70)\n",
    "\n",
    "plt.plot(credit_scores, reg2_predicted_interest_rates, label='Model 2')\n",
    "plt.xlabel('Borrower Credit Score at Origination')\n",
    "plt.ylabel('Predicted Interest Rate')\n",
    "plt.title('Predicted Interest Rate vs Borrower Credit Score')\n",
    "plt.legend()\n",
    "plt.show()\n",
    "\n"
   ]
  },
  {
   "cell_type": "markdown",
   "metadata": {},
   "source": [
    "## Model 6\n",
    "\n",
    "The \"impact\" of credit score on interest now depends on logLTV. \n",
    "\n",
    "(We worked on the board)"
   ]
  },
  {
   "cell_type": "code",
   "execution_count": 9,
   "metadata": {},
   "outputs": [
    {
     "name": "stdout",
     "output_type": "stream",
     "text": [
      "5.760573611886471\n",
      "5.699412017386301\n"
     ]
    }
   ],
   "source": [
    "print(-16 + 3.2*np.log(700) + 14.6*np.log(70) -2.2*np.log(700)*np.log(70) )\n",
    "print(-16 + 3.2*np.log(707) + 14.6*np.log(70) -2.2*np.log(707)*np.log(70) )"
   ]
  },
  {
   "cell_type": "markdown",
   "metadata": {},
   "source": [
    "## Model 7"
   ]
  },
  {
   "cell_type": "markdown",
   "metadata": {},
   "source": [
    "## Model 8"
   ]
  },
  {
   "cell_type": "markdown",
   "metadata": {},
   "source": [
    "## Plot models 1-4:"
   ]
  },
  {
   "cell_type": "code",
   "execution_count": 8,
   "metadata": {},
   "outputs": [
    {
     "data": {
      "text/plain": [
       "0         5.860809\n",
       "1         5.655570\n",
       "2         5.245091\n",
       "3         4.706338\n",
       "4         5.954878\n",
       "            ...   \n",
       "135033    5.450331\n",
       "135034    5.792396\n",
       "135035    4.843164\n",
       "135036    6.271288\n",
       "135037    5.937774\n",
       "Length: 135038, dtype: float64"
      ]
     },
     "execution_count": 8,
     "metadata": {},
     "output_type": "execute_result"
    }
   ],
   "source": [
    "reg1.predict(fannie_mae['Borrower_Credit_Score_at_Origination'])"
   ]
  },
  {
   "cell_type": "code",
   "execution_count": null,
   "metadata": {},
   "outputs": [],
   "source": [
    "# models 1-4 I just plot by adding y_hat_* to the dataframe\n",
    "\n",
    "subset = fannie_mae.dropna(subset=['Borrower_Credit_Score_at_Origination','l_credscore']).copy()\n",
    "\n",
    "subset['y_hat_1'] = reg1.predict(fannie_mae['Borrower_Credit_Score_at_Origination'])\n",
    "subset['y_hat_2'] = reg1b.predict(fannie_mae['l_credscore'])\n",
    "subset['y_hat_3'] = np.exp(reg1c.predict(fannie_mae['Borrower_Credit_Score_at_Origination']))\n",
    "subset['y_hat_4'] = np.exp(reg1d.predict(fannie_mae['l_credscore']))"
   ]
  },
  {
   "cell_type": "code",
   "execution_count": null,
   "metadata": {},
   "outputs": [
    {
     "data": {
      "image/png": "[encoded data removed]",
      "text/plain": [
       "<Figure size 640x480 with 1 Axes>"
      ]
     },
     "metadata": {},
     "output_type": "display_data"
    }
   ],
   "source": [
    "# now plot\n",
    "(\n",
    "subset[['y_hat_1','y_hat_2','y_hat_3','y_hat_4','Borrower_Credit_Score_at_Origination']]\n",
    ".sort_values('Borrower_Credit_Score_at_Origination')\n",
    ".set_index('Borrower_Credit_Score_at_Origination')\n",
    ".plot()\n",
    ")\n",
    "\n",
    "# to do plots for other models, just make an X array for the plot with values we want\n",
    "# and then use the model to predict the y values via formula\n",
    "# this is ad hoc, but built in SM plotting options don't work well for multiple models on one plot\n",
    "# where some Xs are transformed for the plot \n",
    "\n",
    "credit_scores = np.linspace(fannie_mae['Borrower_Credit_Score_at_Origination'].min(), \n",
    "                            fannie_mae['Borrower_Credit_Score_at_Origination'].max(), 100)\n",
    "reg2_predicted_interest_rates = reg2.params.iloc[0] +\\\n",
    "                                reg2.params.iloc[1] * np.log(credit_scores) +\\\n",
    "                                reg2.params.iloc[2] * np.log(70)\n",
    "\n",
    "# add reg2 plot to this using reg2_credit_scores, reg2_predicted_interest_rates\n",
    "plt.plot(reg2_credit_scores, reg2_predicted_interest_rates, label='Model 5')\n",
    "\n",
    "plt.xlabel('Borrower Credit Score at Origination')\n",
    "plt.ylabel('Predicted Interest Rate')\n",
    "plt.title('Predicted Interest Rate vs Borrower Credit Score')\n",
    "plt.legend()\n",
    "plt.show()\n"
   ]
  },
  {
   "cell_type": "markdown",
   "metadata": {},
   "source": [
    "Vocab:\n",
    "\n",
    "For a given X_1 coefficient in a regression\n",
    "\n",
    "- \"null hypothesis\": beta of X_1 = 0. \"it is NOT related to y\"\n",
    "- we can reject the null\n",
    "- we can NOT accept the null \n",
    "- std errors\n",
    "- t-stats\n",
    "- p-values\n",
    "- economic significance"
   ]
  }
 ],
 "metadata": {
  "kernelspec": {
   "display_name": "Python 3 (ipykernel)",
   "language": "python",
   "name": "python3"
  },
  "language_info": {
   "codemirror_mode": {
    "name": "ipython",
    "version": 3
   },
   "file_extension": ".py",
   "mimetype": "text/x-python",
   "name": "python",
   "nbconvert_exporter": "python",
   "pygments_lexer": "ipython3",
   "version": "3.11.5"
  }
 },
 "nbformat": 4,
 "nbformat_minor": 4
}
